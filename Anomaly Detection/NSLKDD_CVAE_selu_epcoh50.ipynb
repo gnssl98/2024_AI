{
 "cells": [
  {
   "cell_type": "code",
   "execution_count": 1,
   "id": "9d6359a2",
   "metadata": {},
   "outputs": [
    {
     "name": "stderr",
     "output_type": "stream",
     "text": [
      "2024-08-14 08:01:28.310712: E tensorflow/compiler/xla/stream_executor/cuda/cuda_dnn.cc:9360] Unable to register cuDNN factory: Attempting to register factory for plugin cuDNN when one has already been registered\n",
      "2024-08-14 08:01:28.310787: E tensorflow/compiler/xla/stream_executor/cuda/cuda_fft.cc:609] Unable to register cuFFT factory: Attempting to register factory for plugin cuFFT when one has already been registered\n",
      "2024-08-14 08:01:28.310829: E tensorflow/compiler/xla/stream_executor/cuda/cuda_blas.cc:1537] Unable to register cuBLAS factory: Attempting to register factory for plugin cuBLAS when one has already been registered\n",
      "2024-08-14 08:01:28.318916: I tensorflow/core/platform/cpu_feature_guard.cc:183] This TensorFlow binary is optimized to use available CPU instructions in performance-critical operations.\n",
      "To enable the following instructions: SSE3 SSE4.1 SSE4.2 AVX, in other operations, rebuild TensorFlow with the appropriate compiler flags.\n"
     ]
    }
   ],
   "source": [
    "import pandas as pd\n",
    "import numpy as np\n",
    "import pickle\n",
    "import matplotlib.pyplot as plt\n",
    "from scipy import stats\n",
    "import tensorflow as tf\n",
    "import seaborn as sns\n",
    "from pylab import rcParams\n",
    "from sklearn.model_selection import train_test_split\n",
    "from keras.models import Model, load_model\n",
    "from keras.layers import Input, Dense\n",
    "from keras.callbacks import ModelCheckpoint, TensorBoard\n",
    "from keras import regularizers"
   ]
  },
  {
   "cell_type": "code",
   "execution_count": 2,
   "id": "f3700cab",
   "metadata": {},
   "outputs": [],
   "source": [
    "from tensorflow.keras.models import Model, load_model\n",
    "from tensorflow.keras.layers import Lambda, Input, Dense\n",
    "from tensorflow.keras.losses import mse, binary_crossentropy, kl_divergence\n",
    "from tensorflow.keras import optimizers\n",
    "from tensorflow.keras import backend as K\n",
    "\n",
    "from sklearn.model_selection import train_test_split\n",
    "from sklearn.preprocessing import MinMaxScaler, StandardScaler, PowerTransformer\n",
    "\n",
    "import seaborn as sns\n",
    "import matplotlib.pyplot as plt\n",
    "from sklearn.linear_model import LogisticRegression\n",
    "from sklearn.tree import DecisionTreeClassifier\n",
    "from sklearn.neighbors import KNeighborsClassifier\n",
    "from sklearn.model_selection import train_test_split\n",
    "from sklearn.metrics import accuracy_score\n",
    "from sklearn.model_selection import cross_val_score\n",
    "from sklearn.preprocessing import OneHotEncoder\n",
    "from sklearn.preprocessing import scale\n",
    "\n",
    "\n",
    "import numpy as np\n",
    "import pandas as pd"
   ]
  },
  {
   "cell_type": "code",
   "execution_count": 3,
   "id": "dd9e2d84",
   "metadata": {},
   "outputs": [
    {
     "data": {
      "text/html": [
       "<div>\n",
       "<style scoped>\n",
       "    .dataframe tbody tr th:only-of-type {\n",
       "        vertical-align: middle;\n",
       "    }\n",
       "\n",
       "    .dataframe tbody tr th {\n",
       "        vertical-align: top;\n",
       "    }\n",
       "\n",
       "    .dataframe thead th {\n",
       "        text-align: right;\n",
       "    }\n",
       "</style>\n",
       "<table border=\"1\" class=\"dataframe\">\n",
       "  <thead>\n",
       "    <tr style=\"text-align: right;\">\n",
       "      <th></th>\n",
       "      <th>duration</th>\n",
       "      <th>protocol_type</th>\n",
       "      <th>service</th>\n",
       "      <th>flag</th>\n",
       "      <th>src_bytes</th>\n",
       "      <th>dst_bytes</th>\n",
       "      <th>land</th>\n",
       "      <th>wrong_fragment</th>\n",
       "      <th>urgent</th>\n",
       "      <th>hot</th>\n",
       "      <th>...</th>\n",
       "      <th>dst_host_srv_count</th>\n",
       "      <th>dst_host_same_srv_rate</th>\n",
       "      <th>dst_host_diff_srv_rate</th>\n",
       "      <th>dst_host_same_src_port_rate</th>\n",
       "      <th>dst_host_srv_diff_host_rate</th>\n",
       "      <th>dst_host_serror_rate</th>\n",
       "      <th>dst_host_srv_serror_rate</th>\n",
       "      <th>dst_host_rerror_rate</th>\n",
       "      <th>dst_host_srv_rerror_rate</th>\n",
       "      <th>class</th>\n",
       "    </tr>\n",
       "  </thead>\n",
       "  <tbody>\n",
       "    <tr>\n",
       "      <th>0</th>\n",
       "      <td>0</td>\n",
       "      <td>tcp</td>\n",
       "      <td>ftp_data</td>\n",
       "      <td>SF</td>\n",
       "      <td>491</td>\n",
       "      <td>0</td>\n",
       "      <td>0</td>\n",
       "      <td>0</td>\n",
       "      <td>0</td>\n",
       "      <td>0</td>\n",
       "      <td>...</td>\n",
       "      <td>25</td>\n",
       "      <td>0.17</td>\n",
       "      <td>0.03</td>\n",
       "      <td>0.17</td>\n",
       "      <td>0.00</td>\n",
       "      <td>0.00</td>\n",
       "      <td>0.00</td>\n",
       "      <td>0.05</td>\n",
       "      <td>0.00</td>\n",
       "      <td>normal</td>\n",
       "    </tr>\n",
       "    <tr>\n",
       "      <th>1</th>\n",
       "      <td>0</td>\n",
       "      <td>udp</td>\n",
       "      <td>other</td>\n",
       "      <td>SF</td>\n",
       "      <td>146</td>\n",
       "      <td>0</td>\n",
       "      <td>0</td>\n",
       "      <td>0</td>\n",
       "      <td>0</td>\n",
       "      <td>0</td>\n",
       "      <td>...</td>\n",
       "      <td>1</td>\n",
       "      <td>0.00</td>\n",
       "      <td>0.60</td>\n",
       "      <td>0.88</td>\n",
       "      <td>0.00</td>\n",
       "      <td>0.00</td>\n",
       "      <td>0.00</td>\n",
       "      <td>0.00</td>\n",
       "      <td>0.00</td>\n",
       "      <td>normal</td>\n",
       "    </tr>\n",
       "    <tr>\n",
       "      <th>2</th>\n",
       "      <td>0</td>\n",
       "      <td>tcp</td>\n",
       "      <td>private</td>\n",
       "      <td>S0</td>\n",
       "      <td>0</td>\n",
       "      <td>0</td>\n",
       "      <td>0</td>\n",
       "      <td>0</td>\n",
       "      <td>0</td>\n",
       "      <td>0</td>\n",
       "      <td>...</td>\n",
       "      <td>26</td>\n",
       "      <td>0.10</td>\n",
       "      <td>0.05</td>\n",
       "      <td>0.00</td>\n",
       "      <td>0.00</td>\n",
       "      <td>1.00</td>\n",
       "      <td>1.00</td>\n",
       "      <td>0.00</td>\n",
       "      <td>0.00</td>\n",
       "      <td>anomaly</td>\n",
       "    </tr>\n",
       "    <tr>\n",
       "      <th>3</th>\n",
       "      <td>0</td>\n",
       "      <td>tcp</td>\n",
       "      <td>http</td>\n",
       "      <td>SF</td>\n",
       "      <td>232</td>\n",
       "      <td>8153</td>\n",
       "      <td>0</td>\n",
       "      <td>0</td>\n",
       "      <td>0</td>\n",
       "      <td>0</td>\n",
       "      <td>...</td>\n",
       "      <td>255</td>\n",
       "      <td>1.00</td>\n",
       "      <td>0.00</td>\n",
       "      <td>0.03</td>\n",
       "      <td>0.04</td>\n",
       "      <td>0.03</td>\n",
       "      <td>0.01</td>\n",
       "      <td>0.00</td>\n",
       "      <td>0.01</td>\n",
       "      <td>normal</td>\n",
       "    </tr>\n",
       "    <tr>\n",
       "      <th>4</th>\n",
       "      <td>0</td>\n",
       "      <td>tcp</td>\n",
       "      <td>http</td>\n",
       "      <td>SF</td>\n",
       "      <td>199</td>\n",
       "      <td>420</td>\n",
       "      <td>0</td>\n",
       "      <td>0</td>\n",
       "      <td>0</td>\n",
       "      <td>0</td>\n",
       "      <td>...</td>\n",
       "      <td>255</td>\n",
       "      <td>1.00</td>\n",
       "      <td>0.00</td>\n",
       "      <td>0.00</td>\n",
       "      <td>0.00</td>\n",
       "      <td>0.00</td>\n",
       "      <td>0.00</td>\n",
       "      <td>0.00</td>\n",
       "      <td>0.00</td>\n",
       "      <td>normal</td>\n",
       "    </tr>\n",
       "  </tbody>\n",
       "</table>\n",
       "<p>5 rows × 42 columns</p>\n",
       "</div>"
      ],
      "text/plain": [
       "   duration protocol_type   service flag  src_bytes  dst_bytes  land  \\\n",
       "0         0           tcp  ftp_data   SF        491          0     0   \n",
       "1         0           udp     other   SF        146          0     0   \n",
       "2         0           tcp   private   S0          0          0     0   \n",
       "3         0           tcp      http   SF        232       8153     0   \n",
       "4         0           tcp      http   SF        199        420     0   \n",
       "\n",
       "   wrong_fragment  urgent  hot  ...  dst_host_srv_count  \\\n",
       "0               0       0    0  ...                  25   \n",
       "1               0       0    0  ...                   1   \n",
       "2               0       0    0  ...                  26   \n",
       "3               0       0    0  ...                 255   \n",
       "4               0       0    0  ...                 255   \n",
       "\n",
       "   dst_host_same_srv_rate  dst_host_diff_srv_rate  \\\n",
       "0                    0.17                    0.03   \n",
       "1                    0.00                    0.60   \n",
       "2                    0.10                    0.05   \n",
       "3                    1.00                    0.00   \n",
       "4                    1.00                    0.00   \n",
       "\n",
       "   dst_host_same_src_port_rate  dst_host_srv_diff_host_rate  \\\n",
       "0                         0.17                         0.00   \n",
       "1                         0.88                         0.00   \n",
       "2                         0.00                         0.00   \n",
       "3                         0.03                         0.04   \n",
       "4                         0.00                         0.00   \n",
       "\n",
       "   dst_host_serror_rate  dst_host_srv_serror_rate  dst_host_rerror_rate  \\\n",
       "0                  0.00                      0.00                  0.05   \n",
       "1                  0.00                      0.00                  0.00   \n",
       "2                  1.00                      1.00                  0.00   \n",
       "3                  0.03                      0.01                  0.00   \n",
       "4                  0.00                      0.00                  0.00   \n",
       "\n",
       "   dst_host_srv_rerror_rate    class  \n",
       "0                      0.00   normal  \n",
       "1                      0.00   normal  \n",
       "2                      0.00  anomaly  \n",
       "3                      0.01   normal  \n",
       "4                      0.00   normal  \n",
       "\n",
       "[5 rows x 42 columns]"
      ]
     },
     "execution_count": 3,
     "metadata": {},
     "output_type": "execute_result"
    }
   ],
   "source": [
    "train_df = pd.read_csv('../newKDDTrain+.txt', header=None)\n",
    "\n",
    "columns = [\n",
    "    'duration', 'protocol_type', 'service', 'flag', 'src_bytes', 'dst_bytes', 'land',\n",
    "    'wrong_fragment', 'urgent', 'hot', 'num_failed_logins', 'logged_in', 'num_compromised',\n",
    "    'root_shell', 'su_attempted', 'num_root', 'num_file_creations', 'num_shells',\n",
    "    'num_access_files', 'num_outbound_cmds', 'is_host_login', 'is_guest_login', 'count',\n",
    "    'srv_count', 'serror_rate', 'srv_serror_rate', 'rerror_rate', 'srv_rerror_rate',\n",
    "    'same_srv_rate', 'diff_srv_rate', 'srv_diff_host_rate', 'dst_host_count',\n",
    "    'dst_host_srv_count', 'dst_host_same_srv_rate', 'dst_host_diff_srv_rate',\n",
    "    'dst_host_same_src_port_rate', 'dst_host_srv_diff_host_rate', 'dst_host_serror_rate',\n",
    "    'dst_host_srv_serror_rate', 'dst_host_rerror_rate', 'dst_host_srv_rerror_rate', 'class'\n",
    "]\n",
    "# Rename the columns of the DataFrame\n",
    "train_df.columns = columns\n",
    "\n",
    "train_df.head()"
   ]
  },
  {
   "cell_type": "code",
   "execution_count": 4,
   "id": "c9590feb",
   "metadata": {},
   "outputs": [
    {
     "data": {
      "text/html": [
       "<div>\n",
       "<style scoped>\n",
       "    .dataframe tbody tr th:only-of-type {\n",
       "        vertical-align: middle;\n",
       "    }\n",
       "\n",
       "    .dataframe tbody tr th {\n",
       "        vertical-align: top;\n",
       "    }\n",
       "\n",
       "    .dataframe thead th {\n",
       "        text-align: right;\n",
       "    }\n",
       "</style>\n",
       "<table border=\"1\" class=\"dataframe\">\n",
       "  <thead>\n",
       "    <tr style=\"text-align: right;\">\n",
       "      <th></th>\n",
       "      <th>duration</th>\n",
       "      <th>protocol_type</th>\n",
       "      <th>service</th>\n",
       "      <th>flag</th>\n",
       "      <th>src_bytes</th>\n",
       "      <th>dst_bytes</th>\n",
       "      <th>land</th>\n",
       "      <th>wrong_fragment</th>\n",
       "      <th>urgent</th>\n",
       "      <th>hot</th>\n",
       "      <th>...</th>\n",
       "      <th>dst_host_srv_count</th>\n",
       "      <th>dst_host_same_srv_rate</th>\n",
       "      <th>dst_host_diff_srv_rate</th>\n",
       "      <th>dst_host_same_src_port_rate</th>\n",
       "      <th>dst_host_srv_diff_host_rate</th>\n",
       "      <th>dst_host_serror_rate</th>\n",
       "      <th>dst_host_srv_serror_rate</th>\n",
       "      <th>dst_host_rerror_rate</th>\n",
       "      <th>dst_host_srv_rerror_rate</th>\n",
       "      <th>class</th>\n",
       "    </tr>\n",
       "  </thead>\n",
       "  <tbody>\n",
       "    <tr>\n",
       "      <th>0</th>\n",
       "      <td>0</td>\n",
       "      <td>tcp</td>\n",
       "      <td>private</td>\n",
       "      <td>REJ</td>\n",
       "      <td>0</td>\n",
       "      <td>0</td>\n",
       "      <td>0</td>\n",
       "      <td>0</td>\n",
       "      <td>0</td>\n",
       "      <td>0</td>\n",
       "      <td>...</td>\n",
       "      <td>10</td>\n",
       "      <td>0.04</td>\n",
       "      <td>0.06</td>\n",
       "      <td>0.00</td>\n",
       "      <td>0.00</td>\n",
       "      <td>0.0</td>\n",
       "      <td>0.0</td>\n",
       "      <td>1.00</td>\n",
       "      <td>1.00</td>\n",
       "      <td>anomaly</td>\n",
       "    </tr>\n",
       "    <tr>\n",
       "      <th>1</th>\n",
       "      <td>0</td>\n",
       "      <td>tcp</td>\n",
       "      <td>private</td>\n",
       "      <td>REJ</td>\n",
       "      <td>0</td>\n",
       "      <td>0</td>\n",
       "      <td>0</td>\n",
       "      <td>0</td>\n",
       "      <td>0</td>\n",
       "      <td>0</td>\n",
       "      <td>...</td>\n",
       "      <td>1</td>\n",
       "      <td>0.00</td>\n",
       "      <td>0.06</td>\n",
       "      <td>0.00</td>\n",
       "      <td>0.00</td>\n",
       "      <td>0.0</td>\n",
       "      <td>0.0</td>\n",
       "      <td>1.00</td>\n",
       "      <td>1.00</td>\n",
       "      <td>anomaly</td>\n",
       "    </tr>\n",
       "    <tr>\n",
       "      <th>2</th>\n",
       "      <td>2</td>\n",
       "      <td>tcp</td>\n",
       "      <td>ftp_data</td>\n",
       "      <td>SF</td>\n",
       "      <td>12983</td>\n",
       "      <td>0</td>\n",
       "      <td>0</td>\n",
       "      <td>0</td>\n",
       "      <td>0</td>\n",
       "      <td>0</td>\n",
       "      <td>...</td>\n",
       "      <td>86</td>\n",
       "      <td>0.61</td>\n",
       "      <td>0.04</td>\n",
       "      <td>0.61</td>\n",
       "      <td>0.02</td>\n",
       "      <td>0.0</td>\n",
       "      <td>0.0</td>\n",
       "      <td>0.00</td>\n",
       "      <td>0.00</td>\n",
       "      <td>normal</td>\n",
       "    </tr>\n",
       "    <tr>\n",
       "      <th>3</th>\n",
       "      <td>0</td>\n",
       "      <td>icmp</td>\n",
       "      <td>eco_i</td>\n",
       "      <td>SF</td>\n",
       "      <td>20</td>\n",
       "      <td>0</td>\n",
       "      <td>0</td>\n",
       "      <td>0</td>\n",
       "      <td>0</td>\n",
       "      <td>0</td>\n",
       "      <td>...</td>\n",
       "      <td>57</td>\n",
       "      <td>1.00</td>\n",
       "      <td>0.00</td>\n",
       "      <td>1.00</td>\n",
       "      <td>0.28</td>\n",
       "      <td>0.0</td>\n",
       "      <td>0.0</td>\n",
       "      <td>0.00</td>\n",
       "      <td>0.00</td>\n",
       "      <td>anomaly</td>\n",
       "    </tr>\n",
       "    <tr>\n",
       "      <th>4</th>\n",
       "      <td>1</td>\n",
       "      <td>tcp</td>\n",
       "      <td>telnet</td>\n",
       "      <td>RSTO</td>\n",
       "      <td>0</td>\n",
       "      <td>15</td>\n",
       "      <td>0</td>\n",
       "      <td>0</td>\n",
       "      <td>0</td>\n",
       "      <td>0</td>\n",
       "      <td>...</td>\n",
       "      <td>86</td>\n",
       "      <td>0.31</td>\n",
       "      <td>0.17</td>\n",
       "      <td>0.03</td>\n",
       "      <td>0.02</td>\n",
       "      <td>0.0</td>\n",
       "      <td>0.0</td>\n",
       "      <td>0.83</td>\n",
       "      <td>0.71</td>\n",
       "      <td>anomaly</td>\n",
       "    </tr>\n",
       "  </tbody>\n",
       "</table>\n",
       "<p>5 rows × 42 columns</p>\n",
       "</div>"
      ],
      "text/plain": [
       "   duration protocol_type   service  flag  src_bytes  dst_bytes  land  \\\n",
       "0         0           tcp   private   REJ          0          0     0   \n",
       "1         0           tcp   private   REJ          0          0     0   \n",
       "2         2           tcp  ftp_data    SF      12983          0     0   \n",
       "3         0          icmp     eco_i    SF         20          0     0   \n",
       "4         1           tcp    telnet  RSTO          0         15     0   \n",
       "\n",
       "   wrong_fragment  urgent  hot  ...  dst_host_srv_count  \\\n",
       "0               0       0    0  ...                  10   \n",
       "1               0       0    0  ...                   1   \n",
       "2               0       0    0  ...                  86   \n",
       "3               0       0    0  ...                  57   \n",
       "4               0       0    0  ...                  86   \n",
       "\n",
       "   dst_host_same_srv_rate  dst_host_diff_srv_rate  \\\n",
       "0                    0.04                    0.06   \n",
       "1                    0.00                    0.06   \n",
       "2                    0.61                    0.04   \n",
       "3                    1.00                    0.00   \n",
       "4                    0.31                    0.17   \n",
       "\n",
       "   dst_host_same_src_port_rate  dst_host_srv_diff_host_rate  \\\n",
       "0                         0.00                         0.00   \n",
       "1                         0.00                         0.00   \n",
       "2                         0.61                         0.02   \n",
       "3                         1.00                         0.28   \n",
       "4                         0.03                         0.02   \n",
       "\n",
       "   dst_host_serror_rate  dst_host_srv_serror_rate  dst_host_rerror_rate  \\\n",
       "0                   0.0                       0.0                  1.00   \n",
       "1                   0.0                       0.0                  1.00   \n",
       "2                   0.0                       0.0                  0.00   \n",
       "3                   0.0                       0.0                  0.00   \n",
       "4                   0.0                       0.0                  0.83   \n",
       "\n",
       "   dst_host_srv_rerror_rate    class  \n",
       "0                      1.00  anomaly  \n",
       "1                      1.00  anomaly  \n",
       "2                      0.00   normal  \n",
       "3                      0.00  anomaly  \n",
       "4                      0.71  anomaly  \n",
       "\n",
       "[5 rows x 42 columns]"
      ]
     },
     "execution_count": 4,
     "metadata": {},
     "output_type": "execute_result"
    }
   ],
   "source": [
    "test_df = pd.read_csv('../newKDDTest+.txt', header=None)\n",
    "\n",
    "test_columns = [\n",
    "    'duration', 'protocol_type', 'service', 'flag', 'src_bytes', 'dst_bytes', 'land',\n",
    "    'wrong_fragment', 'urgent', 'hot', 'num_failed_logins', 'logged_in', 'num_compromised',\n",
    "    'root_shell', 'su_attempted', 'num_root', 'num_file_creations', 'num_shells',\n",
    "    'num_access_files', 'num_outbound_cmds', 'is_host_login', 'is_guest_login', 'count',\n",
    "    'srv_count', 'serror_rate', 'srv_serror_rate', 'rerror_rate', 'srv_rerror_rate',\n",
    "    'same_srv_rate', 'diff_srv_rate', 'srv_diff_host_rate', 'dst_host_count',\n",
    "    'dst_host_srv_count', 'dst_host_same_srv_rate', 'dst_host_diff_srv_rate',\n",
    "    'dst_host_same_src_port_rate', 'dst_host_srv_diff_host_rate', 'dst_host_serror_rate',\n",
    "    'dst_host_srv_serror_rate', 'dst_host_rerror_rate', 'dst_host_srv_rerror_rate', 'class'\n",
    "]\n",
    "# Rename the columns of the DataFrame\n",
    "test_df.columns = columns\n",
    "\n",
    "test_df.head()"
   ]
  },
  {
   "cell_type": "code",
   "execution_count": 5,
   "id": "415e75dc",
   "metadata": {},
   "outputs": [],
   "source": [
    "df = pd.concat([train_df, test_df])"
   ]
  },
  {
   "cell_type": "code",
   "execution_count": 6,
   "id": "6288929f",
   "metadata": {},
   "outputs": [
    {
     "data": {
      "text/plain": [
       "0         normal\n",
       "1         normal\n",
       "2        anomaly\n",
       "3         normal\n",
       "4         normal\n",
       "          ...   \n",
       "22539     normal\n",
       "22540     normal\n",
       "22541    anomaly\n",
       "22542     normal\n",
       "22543    anomaly\n",
       "Name: class, Length: 148517, dtype: object"
      ]
     },
     "execution_count": 6,
     "metadata": {},
     "output_type": "execute_result"
    }
   ],
   "source": [
    "df['class']"
   ]
  },
  {
   "cell_type": "code",
   "execution_count": 7,
   "id": "a1798822",
   "metadata": {},
   "outputs": [
    {
     "data": {
      "text/plain": [
       "False"
      ]
     },
     "execution_count": 7,
     "metadata": {},
     "output_type": "execute_result"
    }
   ],
   "source": [
    "df.isnull().values.any()"
   ]
  },
  {
   "cell_type": "code",
   "execution_count": 8,
   "id": "26ca4dc3",
   "metadata": {},
   "outputs": [
    {
     "data": {
      "text/plain": [
       "42"
      ]
     },
     "execution_count": 8,
     "metadata": {},
     "output_type": "execute_result"
    }
   ],
   "source": [
    "len(df.columns)"
   ]
  },
  {
   "cell_type": "code",
   "execution_count": 9,
   "id": "f4a5bc66",
   "metadata": {},
   "outputs": [
    {
     "data": {
      "text/plain": [
       "(148517, 42)"
      ]
     },
     "execution_count": 9,
     "metadata": {},
     "output_type": "execute_result"
    }
   ],
   "source": [
    "df.shape"
   ]
  },
  {
   "cell_type": "code",
   "execution_count": 10,
   "id": "c3704849",
   "metadata": {},
   "outputs": [
    {
     "name": "stdout",
     "output_type": "stream",
     "text": [
      "   duration protocol_type   service flag  src_bytes  dst_bytes  land  \\\n",
      "0         0           tcp  ftp_data   SF        491          0     0   \n",
      "1         0           udp     other   SF        146          0     0   \n",
      "2         0           tcp   private   S0          0          0     0   \n",
      "3         0           tcp      http   SF        232       8153     0   \n",
      "4         0           tcp      http   SF        199        420     0   \n",
      "\n",
      "   wrong_fragment  urgent  hot  ...  dst_host_srv_count  \\\n",
      "0               0       0    0  ...                  25   \n",
      "1               0       0    0  ...                   1   \n",
      "2               0       0    0  ...                  26   \n",
      "3               0       0    0  ...                 255   \n",
      "4               0       0    0  ...                 255   \n",
      "\n",
      "   dst_host_same_srv_rate  dst_host_diff_srv_rate  \\\n",
      "0                    0.17                    0.03   \n",
      "1                    0.00                    0.60   \n",
      "2                    0.10                    0.05   \n",
      "3                    1.00                    0.00   \n",
      "4                    1.00                    0.00   \n",
      "\n",
      "   dst_host_same_src_port_rate  dst_host_srv_diff_host_rate  \\\n",
      "0                         0.17                         0.00   \n",
      "1                         0.88                         0.00   \n",
      "2                         0.00                         0.00   \n",
      "3                         0.03                         0.04   \n",
      "4                         0.00                         0.00   \n",
      "\n",
      "   dst_host_serror_rate  dst_host_srv_serror_rate  dst_host_rerror_rate  \\\n",
      "0                  0.00                      0.00                  0.05   \n",
      "1                  0.00                      0.00                  0.00   \n",
      "2                  1.00                      1.00                  0.00   \n",
      "3                  0.03                      0.01                  0.00   \n",
      "4                  0.00                      0.00                  0.00   \n",
      "\n",
      "   dst_host_srv_rerror_rate  class  \n",
      "0                      0.00      0  \n",
      "1                      0.00      0  \n",
      "2                      0.00      1  \n",
      "3                      0.01      0  \n",
      "4                      0.00      0  \n",
      "\n",
      "[5 rows x 42 columns]\n"
     ]
    }
   ],
   "source": [
    "# 'label' 열의 값이 'normal.'이면 0으로, 'normal.'이 아니면 1로 변경\n",
    "df['class'] = df['class'].apply(lambda x: 0 if x == 'normal' else 1)\n",
    "\n",
    "# 변경된 데이터프레임 확인\n",
    "print(df.head())"
   ]
  },
  {
   "cell_type": "code",
   "execution_count": 11,
   "id": "8d1a618e",
   "metadata": {},
   "outputs": [
    {
     "name": "stdout",
     "output_type": "stream",
     "text": [
      "   duration  protocol_type  service  flag  src_bytes  dst_bytes  land  \\\n",
      "0         0              1       20     9        491          0     0   \n",
      "1         0              2       44     9        146          0     0   \n",
      "2         0              1       49     5          0          0     0   \n",
      "3         0              1       24     9        232       8153     0   \n",
      "4         0              1       24     9        199        420     0   \n",
      "\n",
      "   wrong_fragment  urgent  hot  ...  dst_host_srv_count  \\\n",
      "0               0       0    0  ...                  25   \n",
      "1               0       0    0  ...                   1   \n",
      "2               0       0    0  ...                  26   \n",
      "3               0       0    0  ...                 255   \n",
      "4               0       0    0  ...                 255   \n",
      "\n",
      "   dst_host_same_srv_rate  dst_host_diff_srv_rate  \\\n",
      "0                    0.17                    0.03   \n",
      "1                    0.00                    0.60   \n",
      "2                    0.10                    0.05   \n",
      "3                    1.00                    0.00   \n",
      "4                    1.00                    0.00   \n",
      "\n",
      "   dst_host_same_src_port_rate  dst_host_srv_diff_host_rate  \\\n",
      "0                         0.17                         0.00   \n",
      "1                         0.88                         0.00   \n",
      "2                         0.00                         0.00   \n",
      "3                         0.03                         0.04   \n",
      "4                         0.00                         0.00   \n",
      "\n",
      "   dst_host_serror_rate  dst_host_srv_serror_rate  dst_host_rerror_rate  \\\n",
      "0                  0.00                      0.00                  0.05   \n",
      "1                  0.00                      0.00                  0.00   \n",
      "2                  1.00                      1.00                  0.00   \n",
      "3                  0.03                      0.01                  0.00   \n",
      "4                  0.00                      0.00                  0.00   \n",
      "\n",
      "   dst_host_srv_rerror_rate  class  \n",
      "0                      0.00      0  \n",
      "1                      0.00      0  \n",
      "2                      0.00      1  \n",
      "3                      0.01      0  \n",
      "4                      0.00      0  \n",
      "\n",
      "[5 rows x 42 columns]\n"
     ]
    }
   ],
   "source": [
    "from sklearn.preprocessing import LabelEncoder\n",
    "\n",
    "# Label Encoding 적용\n",
    "label_encoder = LabelEncoder()\n",
    "df['protocol_type'] = label_encoder.fit_transform(df['protocol_type'])\n",
    "df['service'] = label_encoder.fit_transform(df['service'])\n",
    "df['flag'] = label_encoder.fit_transform(df['flag'])\n",
    "\n",
    "# 인코딩된 데이터프레임 확인\n",
    "print(df.head())"
   ]
  },
  {
   "cell_type": "code",
   "execution_count": 12,
   "id": "509a0da5",
   "metadata": {},
   "outputs": [],
   "source": [
    "# 상관계수 계산\n",
    "correlation_matrix = df.corr()\n",
    "label_correlation = correlation_matrix['class'].drop('class')\n",
    "\n",
    "# 상관계수가 높은 컬럼 선택\n",
    "top_features = label_correlation.abs().sort_values(ascending=False).head(5).index  # 상위 5개 컬럼 선택\n",
    "\n"
   ]
  },
  {
   "cell_type": "code",
   "execution_count": 13,
   "id": "8a7cee3f",
   "metadata": {},
   "outputs": [
    {
     "name": "stdout",
     "output_type": "stream",
     "text": [
      "Index(['same_srv_rate', 'dst_host_srv_count', 'dst_host_same_srv_rate',\n",
      "       'logged_in', 'flag'],\n",
      "      dtype='object')\n"
     ]
    }
   ],
   "source": [
    "print(top_features)"
   ]
  },
  {
   "cell_type": "code",
   "execution_count": 14,
   "id": "2190e86f",
   "metadata": {
    "scrolled": true
   },
   "outputs": [
    {
     "name": "stdout",
     "output_type": "stream",
     "text": [
      "Columns with correlation greater than 0.4 with 'Label':\n",
      "flag                       -0.629556\n",
      "logged_in                  -0.664117\n",
      "count                       0.524108\n",
      "serror_rate                 0.588474\n",
      "srv_serror_rate             0.586636\n",
      "same_srv_rate              -0.708911\n",
      "dst_host_srv_count         -0.692577\n",
      "dst_host_same_srv_rate     -0.667624\n",
      "dst_host_serror_rate        0.589936\n",
      "dst_host_srv_serror_rate    0.593690\n",
      "Name: class, dtype: float64\n"
     ]
    }
   ],
   "source": [
    "# ' Label' 컬럼과의 상관계수 계산\n",
    "label_correlation = correlation_matrix['class'].drop('class')\n",
    "\n",
    "# 상관계수가 0.4를 넘는 컬럼 선택\n",
    "significant_features = label_correlation[abs(label_correlation) > 0.38]\n",
    "print(\"Columns with correlation greater than 0.4 with 'Label':\")\n",
    "print(significant_features)"
   ]
  },
  {
   "cell_type": "code",
   "execution_count": 15,
   "id": "32056cd1",
   "metadata": {},
   "outputs": [
    {
     "data": {
      "text/plain": [
       "Index(['same_srv_rate', 'dst_host_srv_count', 'dst_host_same_srv_rate',\n",
       "       'logged_in', 'flag', 'count', 'srv_serror_rate', 'serror_rate',\n",
       "       'dst_host_serror_rate', 'dst_host_srv_serror_rate'],\n",
       "      dtype='object')"
      ]
     },
     "execution_count": 15,
     "metadata": {},
     "output_type": "execute_result"
    }
   ],
   "source": [
    "significant_features.sort_values().index"
   ]
  },
  {
   "cell_type": "code",
   "execution_count": 16,
   "id": "17304546",
   "metadata": {},
   "outputs": [],
   "source": [
    "columns_list = ['same_srv_rate', 'dst_host_srv_count', 'dst_host_same_srv_rate',\n",
    "       'logged_in', 'flag', 'count', 'srv_serror_rate', 'serror_rate',\n",
    "       'dst_host_serror_rate', 'dst_host_srv_serror_rate', 'class']\n",
    "df=df[columns_list]\n"
   ]
  },
  {
   "cell_type": "code",
   "execution_count": 17,
   "id": "1ac1be33",
   "metadata": {},
   "outputs": [
    {
     "data": {
      "text/plain": [
       "(148517, 11)"
      ]
     },
     "execution_count": 17,
     "metadata": {},
     "output_type": "execute_result"
    }
   ],
   "source": [
    "df.shape"
   ]
  },
  {
   "cell_type": "code",
   "execution_count": 18,
   "id": "011dd60b",
   "metadata": {},
   "outputs": [
    {
     "data": {
      "text/plain": [
       "((133665, 11), (14852, 11))"
      ]
     },
     "execution_count": 18,
     "metadata": {},
     "output_type": "execute_result"
    }
   ],
   "source": [
    "from sklearn.model_selection import train_test_split\n",
    "\n",
    "X_train, X_test = train_test_split(df, test_size=0.1, random_state=42)\n",
    "X_train.shape, X_test.shape"
   ]
  },
  {
   "cell_type": "code",
   "execution_count": 19,
   "id": "18bf2594",
   "metadata": {},
   "outputs": [
    {
     "data": {
      "text/plain": [
       "0    69334\n",
       "1    64331\n",
       "Name: class, dtype: int64"
      ]
     },
     "execution_count": 19,
     "metadata": {},
     "output_type": "execute_result"
    }
   ],
   "source": [
    "X_train['class'].value_counts()"
   ]
  },
  {
   "cell_type": "code",
   "execution_count": 20,
   "id": "b875f3ed",
   "metadata": {},
   "outputs": [
    {
     "data": {
      "text/plain": [
       "(69334, 11)"
      ]
     },
     "execution_count": 20,
     "metadata": {},
     "output_type": "execute_result"
    }
   ],
   "source": [
    "normal = X_train[X_train['class'] == 0]\n",
    "normal.shape"
   ]
  },
  {
   "cell_type": "code",
   "execution_count": 21,
   "id": "971b9f62",
   "metadata": {},
   "outputs": [],
   "source": [
    "y_train = normal['class']\n",
    "X_train_normal = normal.drop(labels='class', axis=1)\n",
    "\n",
    "y_test = X_test['class']\n",
    "X_test_normal = X_test.drop(labels='class', axis=1)"
   ]
  },
  {
   "cell_type": "code",
   "execution_count": 22,
   "id": "49ba8ae0",
   "metadata": {},
   "outputs": [],
   "source": [
    "from sklearn.preprocessing import MinMaxScaler\n",
    "\n",
    "scaler = MinMaxScaler()\n",
    "\n",
    "scaler.fit(X_train_normal)\n",
    "scaler.fit(X_test_normal)\n",
    "\n",
    "X_train_ft = scaler.transform(X_train_normal)\n",
    "X_test = scaler.transform(X_test_normal)"
   ]
  },
  {
   "cell_type": "code",
   "execution_count": 23,
   "id": "06d247e6",
   "metadata": {},
   "outputs": [
    {
     "name": "stdout",
     "output_type": "stream",
     "text": [
      "Training data shape: (69334, 1, 10)\n",
      "Test data shape: (14852, 1, 10)\n"
     ]
    }
   ],
   "source": [
    "#reshape inputs for LSTM [samples, timesteps, features]\n",
    "\n",
    "X_train_ft = X_train_ft.reshape(X_train_ft.shape[0], 1, X_train_ft.shape[1])\n",
    "print(\"Training data shape:\", X_train_ft.shape)\n",
    "\n",
    "X_test = X_test.reshape(X_test.shape[0], 1, X_test.shape[1])\n",
    "print(\"Test data shape:\", X_test.shape)\n"
   ]
  },
  {
   "cell_type": "code",
   "execution_count": 24,
   "id": "53f69c4b",
   "metadata": {},
   "outputs": [
    {
     "data": {
      "text/plain": [
       "((69334, 1, 10), (14852, 1, 10))"
      ]
     },
     "execution_count": 24,
     "metadata": {},
     "output_type": "execute_result"
    }
   ],
   "source": [
    "X_train_ft.shape, X_test.shape"
   ]
  },
  {
   "cell_type": "code",
   "execution_count": 25,
   "id": "98dcdd5b",
   "metadata": {},
   "outputs": [
    {
     "name": "stdout",
     "output_type": "stream",
     "text": [
      "Defaulting to user installation because normal site-packages is not writeable\n",
      "Requirement already satisfied: keras_self_attention in /home/work/.local/lib/python3.10/site-packages (0.51.0)\n",
      "Requirement already satisfied: numpy in /usr/local/lib/python3.10/dist-packages (from keras_self_attention) (1.24.4)\n"
     ]
    }
   ],
   "source": [
    "!pip install keras_self_attention"
   ]
  },
  {
   "cell_type": "code",
   "execution_count": 26,
   "id": "417d89f9",
   "metadata": {},
   "outputs": [],
   "source": [
    "import tensorflow as tf\n",
    "from tensorflow.keras import optimizers\n",
    "from tensorflow.keras.models import Model\n",
    "from tensorflow.keras.layers import Input, Dense, Dropout\n",
    "from tensorflow.keras.utils import plot_model\n",
    "import tensorflow as tf\n",
    "from keras.layers import Input, Dropout, Dense, LSTM, TimeDistributed, RepeatVector, Conv1D, Conv1DTranspose\n",
    "from keras.models import Model\n",
    "from keras import regularizers\n",
    "from keras_self_attention import SeqWeightedAttention, SeqSelfAttention"
   ]
  },
  {
   "cell_type": "code",
   "execution_count": null,
   "id": "309fa778",
   "metadata": {},
   "outputs": [
    {
     "name": "stderr",
     "output_type": "stream",
     "text": [
      "2024-08-14 08:01:37.119355: I tensorflow/core/common_runtime/gpu/gpu_device.cc:1883] Created device /job:localhost/replica:0/task:0/device:GPU:0 with 38698 MB memory:  -> device: 0, name: CUDA GPU, pci bus id: 0000:c8:00.0, compute capability: 8.0\n"
     ]
    },
    {
     "name": "stdout",
     "output_type": "stream",
     "text": [
      "WARNING:tensorflow:Layer lstm will not use cuDNN kernels since it doesn't meet the criteria. It will use a generic GPU kernel as fallback when running on GPU.\n"
     ]
    },
    {
     "name": "stderr",
     "output_type": "stream",
     "text": [
      "2024-08-14 08:01:37.121707: I tensorflow/core/common_runtime/gpu/gpu_device.cc:1883] Created device /job:localhost/replica:0/task:0/device:GPU:1 with 38698 MB memory:  -> device: 1, name: CUDA GPU, pci bus id: 0000:cc:00.0, compute capability: 8.0\n",
      "/usr/local/lib/python3.10/dist-packages/keras/src/initializers/initializers.py:120: UserWarning: The initializer GlorotNormal is unseeded and being called multiple times, which will return identical values each time (even if the initializer is unseeded). Please update your code to provide a seed to the initializer, or avoid using the same initializer instance more than once.\n",
      "  warnings.warn(\n"
     ]
    },
    {
     "name": "stdout",
     "output_type": "stream",
     "text": [
      "WARNING:tensorflow:Layer lstm_1 will not use cuDNN kernels since it doesn't meet the criteria. It will use a generic GPU kernel as fallback when running on GPU.\n",
      "WARNING:tensorflow:Layer lstm_2 will not use cuDNN kernels since it doesn't meet the criteria. It will use a generic GPU kernel as fallback when running on GPU.\n",
      "WARNING:tensorflow:Layer lstm_3 will not use cuDNN kernels since it doesn't meet the criteria. It will use a generic GPU kernel as fallback when running on GPU.\n",
      "Model: \"model\"\n",
      "__________________________________________________________________________________________________\n",
      " Layer (type)                Output Shape                 Param #   Connected to                  \n",
      "==================================================================================================\n",
      " InputTimeSeries (InputLaye  [(None, 1, 10)]              0         []                            \n",
      " r)                                                                                               \n",
      "                                                                                                  \n",
      " conv1d (Conv1D)             (None, 1, 48)                2448      ['InputTimeSeries[0][0]']     \n",
      "                                                                                                  \n",
      " conv1d_1 (Conv1D)           (None, 1, 32)                7712      ['conv1d[0][0]']              \n",
      "                                                                                                  \n",
      " conv1d_2 (Conv1D)           (None, 1, 16)                2576      ['conv1d_1[0][0]']            \n",
      "                                                                                                  \n",
      " lstm (LSTM)                 (None, 1, 3)                 240       ['conv1d_2[0][0]']            \n",
      "                                                                                                  \n",
      " seq_self_attention (SeqSel  (None, 1, 3)                 257       ['lstm[0][0]']                \n",
      " fAttention)                                                                                      \n",
      "                                                                                                  \n",
      " lstm_1 (LSTM)               (None, 3)                    84        ['seq_self_attention[0][0]']  \n",
      "                                                                                                  \n",
      " dense (Dense)               (None, 3)                    12        ['lstm_1[0][0]']              \n",
      "                                                                                                  \n",
      " dense_1 (Dense)             (None, 3)                    12        ['dense[0][0]']               \n",
      "                                                                                                  \n",
      " dense_2 (Dense)             (None, 2)                    8         ['dense_1[0][0]']             \n",
      "                                                                                                  \n",
      " dense_3 (Dense)             (None, 2)                    8         ['dense_1[0][0]']             \n",
      "                                                                                                  \n",
      " lambda (Lambda)             (None, 2)                    0         ['dense_2[0][0]',             \n",
      "                                                                     'dense_3[0][0]']             \n",
      "                                                                                                  \n",
      " repeat_vector (RepeatVecto  (None, 1, 2)                 0         ['lambda[0][0]']              \n",
      " r)                                                                                               \n",
      "                                                                                                  \n",
      " dense_4 (Dense)             (None, 1, 3)                 9         ['repeat_vector[0][0]']       \n",
      "                                                                                                  \n",
      " dense_5 (Dense)             (None, 1, 3)                 12        ['dense_4[0][0]']             \n",
      "                                                                                                  \n",
      " lstm_2 (LSTM)               (None, 1, 3)                 84        ['dense_5[0][0]']             \n",
      "                                                                                                  \n",
      " lstm_3 (LSTM)               (None, 1, 3)                 84        ['lstm_2[0][0]']              \n",
      "                                                                                                  \n",
      " seq_self_attention_1 (SeqS  (None, 1, 3)                 257       ['lstm_3[0][0]']              \n",
      " elfAttention)                                                                                    \n",
      "                                                                                                  \n",
      " conv1d_transpose (Conv1DTr  (None, 1, 16)                256       ['seq_self_attention_1[0][0]']\n",
      " anspose)                                                                                         \n",
      "                                                                                                  \n",
      " conv1d_transpose_1 (Conv1D  (None, 1, 32)                2592      ['conv1d_transpose[0][0]']    \n",
      " Transpose)                                                                                       \n",
      "                                                                                                  \n",
      " conv1d_transpose_2 (Conv1D  (None, 1, 48)                7728      ['conv1d_transpose_1[0][0]']  \n",
      " Transpose)                                                                                       \n",
      "                                                                                                  \n",
      " time_distributed (TimeDist  (None, 1, 10)                490       ['conv1d_transpose_2[0][0]']  \n",
      " ributed)                                                                                         \n",
      "                                                                                                  \n",
      " tf.__operators__.add (TFOp  (None, 2)                    0         ['dense_3[0][0]']             \n",
      " Lambda)                                                                                          \n",
      "                                                                                                  \n",
      " tf.math.square_1 (TFOpLamb  (None, 2)                    0         ['dense_2[0][0]']             \n",
      " da)                                                                                              \n",
      "                                                                                                  \n",
      " tf.math.subtract_1 (TFOpLa  (None, 2)                    0         ['tf.__operators__.add[0][0]',\n",
      " mbda)                                                               'tf.math.square_1[0][0]']    \n",
      "                                                                                                  \n",
      " tf.math.exp (TFOpLambda)    (None, 2)                    0         ['dense_3[0][0]']             \n",
      "                                                                                                  \n",
      " tf.math.subtract (TFOpLamb  (None, 1, 10)                0         ['InputTimeSeries[0][0]',     \n",
      " da)                                                                 'time_distributed[0][0]']    \n",
      "                                                                                                  \n",
      " tf.math.subtract_2 (TFOpLa  (None, 2)                    0         ['tf.math.subtract_1[0][0]',  \n",
      " mbda)                                                               'tf.math.exp[0][0]']         \n",
      "                                                                                                  \n",
      " tf.math.square (TFOpLambda  (None, 1, 10)                0         ['tf.math.subtract[0][0]']    \n",
      " )                                                                                                \n",
      "                                                                                                  \n",
      " tf.math.reduce_sum_1 (TFOp  (None,)                      0         ['tf.math.subtract_2[0][0]']  \n",
      " Lambda)                                                                                          \n"
     ]
    },
    {
     "name": "stdout",
     "output_type": "stream",
     "text": [
      "                                                                                                  \n",
      " tf.math.reduce_sum (TFOpLa  ()                           0         ['tf.math.square[0][0]']      \n",
      " mbda)                                                                                            \n",
      "                                                                                                  \n",
      " tf.math.multiply (TFOpLamb  (None,)                      0         ['tf.math.reduce_sum_1[0][0]']\n",
      " da)                                                                                              \n",
      "                                                                                                  \n",
      " tf.__operators__.add_1 (TF  (None,)                      0         ['tf.math.reduce_sum[0][0]',  \n",
      " OpLambda)                                                           'tf.math.multiply[0][0]']    \n",
      "                                                                                                  \n",
      " tf.math.reduce_mean (TFOpL  ()                           0         ['tf.__operators__.add_1[0][0]\n",
      " ambda)                                                             ']                            \n",
      "                                                                                                  \n",
      " add_loss (AddLoss)          ()                           0         ['tf.math.reduce_mean[0][0]'] \n",
      "                                                                                                  \n",
      "==================================================================================================\n",
      "Total params: 24869 (97.14 KB)\n",
      "Trainable params: 24869 (97.14 KB)\n",
      "Non-trainable params: 0 (0.00 Byte)\n",
      "__________________________________________________________________________________________________\n",
      "Epoch 1/50\n"
     ]
    },
    {
     "name": "stderr",
     "output_type": "stream",
     "text": [
      "2024-08-14 08:01:43.966813: I tensorflow/compiler/xla/stream_executor/cuda/cuda_dnn.cc:442] Loaded cuDNN version 8907\n",
      "2024-08-14 08:01:44.769885: I tensorflow/compiler/xla/service/service.cc:168] XLA service 0x7f51a4bb14e0 initialized for platform CUDA (this does not guarantee that XLA will be used). Devices:\n",
      "2024-08-14 08:01:44.769932: I tensorflow/compiler/xla/service/service.cc:176]   StreamExecutor device (0): CUDA GPU, Compute Capability 8.0\n",
      "2024-08-14 08:01:44.769938: I tensorflow/compiler/xla/service/service.cc:176]   StreamExecutor device (1): CUDA GPU, Compute Capability 8.0\n",
      "2024-08-14 08:01:44.775326: I tensorflow/compiler/mlir/tensorflow/utils/dump_mlir_util.cc:269] disabling MLIR crash reproducer, set env var `MLIR_CRASH_REPRODUCER_DIRECTORY` to enable.\n",
      "2024-08-14 08:01:44.859017: I ./tensorflow/compiler/jit/device_compiler.h:186] Compiled cluster using XLA!  This line is logged at most once for the lifetime of the process.\n"
     ]
    },
    {
     "name": "stdout",
     "output_type": "stream",
     "text": [
      "2059/2059 [==============================] - 51s 20ms/step - loss: 7.8418 - accuracy: 0.5151 - val_loss: 4.1992 - val_accuracy: 0.2198\n",
      "Epoch 2/50\n",
      "2059/2059 [==============================] - 42s 20ms/step - loss: 3.5950 - accuracy: 0.3396 - val_loss: 3.0562 - val_accuracy: 0.5249\n",
      "Epoch 3/50\n",
      "2059/2059 [==============================] - 42s 20ms/step - loss: 3.2113 - accuracy: 0.2921 - val_loss: 4.1851 - val_accuracy: 0.2977\n",
      "Epoch 4/50\n",
      "2059/2059 [==============================] - 41s 20ms/step - loss: 2.7857 - accuracy: 0.2766 - val_loss: 2.3386 - val_accuracy: 0.2492\n",
      "Epoch 5/50\n",
      "2059/2059 [==============================] - 41s 20ms/step - loss: 2.2332 - accuracy: 0.3266 - val_loss: 2.0263 - val_accuracy: 0.2351\n",
      "Epoch 6/50\n",
      "2059/2059 [==============================] - 41s 20ms/step - loss: 2.6302 - accuracy: 0.3532 - val_loss: 2.8786 - val_accuracy: 0.6646\n",
      "Epoch 7/50\n",
      "2059/2059 [==============================] - 40s 20ms/step - loss: 2.7573 - accuracy: 0.3167 - val_loss: 2.6040 - val_accuracy: 0.1728\n",
      "Epoch 8/50\n",
      "2059/2059 [==============================] - 41s 20ms/step - loss: 2.4939 - accuracy: 0.3184 - val_loss: 2.3749 - val_accuracy: 0.1909\n",
      "Epoch 9/50\n",
      "2059/2059 [==============================] - 41s 20ms/step - loss: 2.2933 - accuracy: 0.3197 - val_loss: 2.2662 - val_accuracy: 0.1384\n",
      "Epoch 10/50\n",
      "2059/2059 [==============================] - 41s 20ms/step - loss: 2.1584 - accuracy: 0.3258 - val_loss: 2.0612 - val_accuracy: 0.2129\n",
      "Epoch 11/50\n",
      "2059/2059 [==============================] - 41s 20ms/step - loss: 2.0086 - accuracy: 0.3473 - val_loss: 2.0997 - val_accuracy: 0.2157\n",
      "Epoch 12/50\n",
      "2059/2059 [==============================] - 40s 20ms/step - loss: 1.8921 - accuracy: 0.3717 - val_loss: 1.7458 - val_accuracy: 0.2342\n",
      "Epoch 13/50\n",
      "2059/2059 [==============================] - 41s 20ms/step - loss: 1.7472 - accuracy: 0.3775 - val_loss: 1.8110 - val_accuracy: 0.3127\n",
      "Epoch 14/50\n",
      "2059/2059 [==============================] - 41s 20ms/step - loss: 1.7055 - accuracy: 0.4027 - val_loss: 1.7727 - val_accuracy: 0.2155\n",
      "Epoch 15/50\n",
      "2059/2059 [==============================] - 41s 20ms/step - loss: 1.6484 - accuracy: 0.3971 - val_loss: 1.6223 - val_accuracy: 0.8209\n",
      "Epoch 16/50\n",
      "2059/2059 [==============================] - 41s 20ms/step - loss: 1.5411 - accuracy: 0.4002 - val_loss: 1.3961 - val_accuracy: 0.3444\n",
      "Epoch 17/50\n",
      "2059/2059 [==============================] - 41s 20ms/step - loss: 1.3679 - accuracy: 0.3880 - val_loss: 1.3325 - val_accuracy: 0.7938\n",
      "Epoch 18/50\n",
      "2059/2059 [==============================] - 41s 20ms/step - loss: 1.3138 - accuracy: 0.3911 - val_loss: 1.2950 - val_accuracy: 0.1410\n",
      "Epoch 19/50\n",
      "2059/2059 [==============================] - 41s 20ms/step - loss: 1.2203 - accuracy: 0.3759 - val_loss: 1.0937 - val_accuracy: 0.8843\n",
      "Epoch 20/50\n",
      "2059/2059 [==============================] - 41s 20ms/step - loss: 1.2350 - accuracy: 0.3799 - val_loss: 1.0807 - val_accuracy: 0.5333\n",
      "Epoch 21/50\n",
      "2059/2059 [==============================] - 40s 19ms/step - loss: 1.0073 - accuracy: 0.3970 - val_loss: 1.0110 - val_accuracy: 0.2065\n",
      "Epoch 22/50\n",
      "2059/2059 [==============================] - 41s 20ms/step - loss: 1.0166 - accuracy: 0.3966 - val_loss: 0.9467 - val_accuracy: 0.3173\n",
      "Epoch 23/50\n",
      "2059/2059 [==============================] - 41s 20ms/step - loss: 0.9107 - accuracy: 0.4047 - val_loss: 0.7573 - val_accuracy: 0.2928\n",
      "Epoch 24/50\n",
      "2059/2059 [==============================] - 41s 20ms/step - loss: 0.9764 - accuracy: 0.4043 - val_loss: 1.5038 - val_accuracy: 0.2071\n",
      "Epoch 25/50\n",
      "2059/2059 [==============================] - 41s 20ms/step - loss: 1.3520 - accuracy: 0.3739 - val_loss: 1.2176 - val_accuracy: 0.3285\n",
      "Epoch 26/50\n",
      "2059/2059 [==============================] - 41s 20ms/step - loss: 1.1602 - accuracy: 0.3702 - val_loss: 1.1567 - val_accuracy: 0.2876\n",
      "Epoch 27/50\n",
      "2059/2059 [==============================] - 41s 20ms/step - loss: 1.0332 - accuracy: 0.3691 - val_loss: 0.9314 - val_accuracy: 0.1993\n",
      "Epoch 28/50\n",
      "2059/2059 [==============================] - 42s 20ms/step - loss: 1.0994 - accuracy: 0.3746 - val_loss: 0.9817 - val_accuracy: 0.2157\n",
      "Epoch 29/50\n",
      "2059/2059 [==============================] - 41s 20ms/step - loss: 0.8742 - accuracy: 0.3802 - val_loss: 0.7789 - val_accuracy: 0.2325\n",
      "Epoch 30/50\n",
      "2059/2059 [==============================] - 41s 20ms/step - loss: 0.8081 - accuracy: 0.4009 - val_loss: 0.6995 - val_accuracy: 0.5774\n",
      "Epoch 31/50\n",
      "2059/2059 [==============================] - 43s 21ms/step - loss: 0.7556 - accuracy: 0.3885 - val_loss: 0.7494 - val_accuracy: 0.8039\n",
      "Epoch 32/50\n",
      "2059/2059 [==============================] - 42s 21ms/step - loss: 0.7502 - accuracy: 0.3837 - val_loss: 0.7982 - val_accuracy: 0.1183\n",
      "Epoch 33/50\n",
      "2059/2059 [==============================] - 41s 20ms/step - loss: 0.7138 - accuracy: 0.3910 - val_loss: 0.6394 - val_accuracy: 0.1811\n",
      "Epoch 34/50\n",
      "1256/2059 [=================>............] - ETA: 15s - loss: 0.6868 - accuracy: 0.3963"
     ]
    }
   ],
   "source": [
    "latent_dim = 2\n",
    "inter_dim = 3\n",
    "\n",
    "def sampling(args):\n",
    "    z_mean, z_log_sigma = args\n",
    "    batch_size = tf.shape(z_mean)[0]\n",
    "    epsilon = K.random_normal(shape=(batch_size, latent_dim), mean=0., stddev=1.)\n",
    "    return z_mean + z_log_sigma * epsilon\n",
    "\n",
    "def vae_loss(x, x_decoded_mean, z_mean, z_log_sigma):\n",
    "    reconstruction_loss = K.sum(K.square(x - x_decoded_mean))\n",
    "    kl_loss = -0.5 * K.sum(1 + z_log_sigma - K.square(z_mean) - K.exp(z_log_sigma), axis=-1)\n",
    "    total_loss = K.mean(reconstruction_loss + kl_loss)\n",
    "    return total_loss\n",
    "\n",
    "def cvae(X):\n",
    "    timesteps, features = X.shape[1], X.shape[2]\n",
    "    input_x = Input(shape=(timesteps, features), name='InputTimeSeries')\n",
    "\n",
    "    # intermediate dimension\n",
    "    h = Conv1D(filters=48, kernel_size=5, padding=\"same\", strides=1, activation=\"selu\")(input_x)\n",
    "    h = Conv1D(filters=32, kernel_size=5, padding=\"same\", strides=1, activation=\"selu\")(h)\n",
    "    h = Conv1D(filters=16, kernel_size=5, padding=\"same\", strides=1, activation=\"selu\")(h)\n",
    "    h = LSTM(inter_dim, activation='selu', return_sequences=True)(h)\n",
    "    h = SeqSelfAttention(attention_activation='sigmoid')(h)\n",
    "    h = LSTM(inter_dim, activation='selu', return_sequences=False)(h)\n",
    "    h = Dense(inter_dim, activation='selu')(h)\n",
    "    h = Dense(inter_dim, activation='selu')(h)\n",
    "\n",
    "    # z_layer\n",
    "    z_mean = Dense(latent_dim)(h)\n",
    "    z_log_sigma = Dense(latent_dim)(h)\n",
    "    z = Lambda(sampling)([z_mean, z_log_sigma])\n",
    "\n",
    "    # Reconstruction decoder\n",
    "    decoder1 = RepeatVector(timesteps)(z)\n",
    "    decoder1 = Dense(inter_dim, activation='selu')(decoder1)\n",
    "    decoder1 = Dense(inter_dim, activation='selu')(decoder1)\n",
    "    decoder1 = LSTM(inter_dim, activation='selu', return_sequences=True)(decoder1)\n",
    "    decoder1 = LSTM(inter_dim, activation='selu', return_sequences=True)(decoder1)\n",
    "    decoder1 = SeqSelfAttention(attention_activation='sigmoid')(decoder1)\n",
    "    decoder1 = Conv1DTranspose(filters=16, kernel_size=5, padding=\"same\", strides=1, activation=\"selu\")(decoder1)\n",
    "    decoder1 = Conv1DTranspose(filters=32, kernel_size=5, padding=\"same\", strides=1, activation=\"selu\")(decoder1)\n",
    "    decoder1 = Conv1DTranspose(filters=48, kernel_size=5, padding=\"same\", strides=1, activation=\"selu\")(decoder1)\n",
    "    decoder1 = TimeDistributed(Dense(features))(decoder1)\n",
    "    model = Model(input_x, decoder1)\n",
    "\n",
    "    model.add_loss(vae_loss(input_x, decoder1, z_mean, z_log_sigma))\n",
    "    return model\n",
    "\n",
    "model = cvae(X_train_ft)\n",
    "model.compile(optimizer='adam', metrics=['accuracy'])\n",
    "\n",
    "model.summary()\n",
    "\n",
    "history = model.fit(X_train_ft, X_train_ft,\n",
    "                    shuffle=True,\n",
    "                    epochs=50,\n",
    "                    validation_split=0.05,\n",
    "                    batch_size=32).history"
   ]
  },
  {
   "cell_type": "code",
   "execution_count": null,
   "id": "86b39cf3",
   "metadata": {},
   "outputs": [],
   "source": [
    "# plot the training losses\n",
    "fig, ax = plt.subplots(figsize=(14, 6), dpi=80)\n",
    "ax.plot(history['loss'], 'b', label='Train', linewidth=2)\n",
    "ax.plot(history['val_loss'], 'r', label='Validation', linewidth=2)\n",
    "ax.set_title('Model loss', fontsize=16)\n",
    "ax.set_ylabel('Loss (mae)')\n",
    "ax.set_xlabel('Epoch')\n",
    "ax.legend(loc='upper right')\n",
    "plt.show()"
   ]
  },
  {
   "cell_type": "code",
   "execution_count": null,
   "id": "8390e0b1",
   "metadata": {},
   "outputs": [],
   "source": [
    "def flatten(X):\n",
    "    flattened_X = np.empty((X.shape[0], X.shape[2]))  # sample x features array.\n",
    "    for i in range(X.shape[0]):\n",
    "        flattened_X[i] = X[i, (X.shape[1]-1), :]\n",
    "    return(flattened_X)"
   ]
  },
  {
   "cell_type": "code",
   "execution_count": null,
   "id": "1e554065",
   "metadata": {},
   "outputs": [],
   "source": [
    "valid_x_predictions = model.predict(X_test)\n",
    "mse = np.mean(np.power(flatten(X_test) - flatten(valid_x_predictions), 2), axis=1)\n",
    "\n",
    "error_df = pd.DataFrame({'reconstruction_error': mse,\n",
    "                        'true_class': y_test.tolist()})"
   ]
  },
  {
   "cell_type": "code",
   "execution_count": null,
   "id": "61e1658b",
   "metadata": {},
   "outputs": [],
   "source": [
    "error_df"
   ]
  },
  {
   "cell_type": "code",
   "execution_count": null,
   "id": "94432644",
   "metadata": {},
   "outputs": [],
   "source": [
    "import matplotlib.pyplot as plt\n",
    "\n",
    "# 데이터프레임 준비\n",
    "true_class = error_df['true_class'].astype(str)\n",
    "reconstruction_error = error_df['reconstruction_error']\n",
    "\n",
    "# 박스 플롯 그리기\n",
    "plt.figure(figsize=(8, 8))\n",
    "plt.boxplot(\n",
    "    [reconstruction_error[true_class == cls] for cls in sorted(true_class.unique())],\n",
    "    labels=sorted(true_class.unique()),\n",
    "    showfliers=False,\n",
    "    vert=True,\n",
    "    patch_artist=True\n",
    ")\n",
    "\n",
    "plt.ylabel('Distribution')\n",
    "plt.xticks(rotation=90)\n",
    "plt.show()\n"
   ]
  },
  {
   "cell_type": "code",
   "execution_count": null,
   "id": "c4f82063",
   "metadata": {},
   "outputs": [],
   "source": [
    "new_data = X_train.iloc[0, :-1].values  # 마지막 특징을 제거하여 10개로 만듦\n"
   ]
  },
  {
   "cell_type": "code",
   "execution_count": null,
   "id": "fdf38aae",
   "metadata": {},
   "outputs": [],
   "source": [
    "import numpy as np\n",
    "\n",
    "def is_anomaly(sample, model, threshold):\n",
    "    # sample의 형태를 조정 (timesteps, features)\n",
    "    sample = np.expand_dims(sample[:-1], axis=0)  # 마지막 특징 제거하여 10개로 만듦\n",
    "    sample = np.expand_dims(sample, axis=0)  # 모델 입력 형태에 맞게 차원 추가\n",
    "    \n",
    "    print(\"Expanded shape:\", sample.shape)\n",
    "    \n",
    "    reconstructed_sample = model.predict(sample)\n",
    "    sample_error = np.mean(np.power(sample - reconstructed_sample, 2))\n",
    "    return sample_error > threshold\n",
    "\n",
    "# 새로운 데이터로 테스트\n",
    "new_data = X_train.iloc[0].values  # X_train에서 첫 번째 샘플 선택\n",
    "if is_anomaly(new_data, model, threshold):\n",
    "    print(\"The sample is an anomaly.\")\n",
    "else:\n",
    "    print(\"The sample is normal.\")\n"
   ]
  },
  {
   "cell_type": "code",
   "execution_count": null,
   "id": "f9fe48a7",
   "metadata": {},
   "outputs": [],
   "source": []
  }
 ],
 "metadata": {
  "kernelspec": {
   "display_name": "Python 3.10 (NGC 24.01 / TensorFlow 2.14) on Backend.AI",
   "language": "python",
   "name": "python3"
  },
  "language_info": {
   "codemirror_mode": {
    "name": "ipython",
    "version": 3
   },
   "file_extension": ".py",
   "mimetype": "text/x-python",
   "name": "python",
   "nbconvert_exporter": "python",
   "pygments_lexer": "ipython3",
   "version": "3.10.12"
  }
 },
 "nbformat": 4,
 "nbformat_minor": 5
}
