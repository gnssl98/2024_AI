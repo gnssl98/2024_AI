{
 "cells": [
  {
   "cell_type": "markdown",
   "id": "7e6fc866",
   "metadata": {},
   "source": [
    "# diabete DL Regression\n",
    "\n",
    "Using DL Dense, MSE"
   ]
  },
  {
   "cell_type": "code",
   "execution_count": 1,
   "id": "a98fe6a5",
   "metadata": {},
   "outputs": [],
   "source": [
    "import numpy as np\n",
    "import pandas as pd\n",
    "import seaborn as sns\n",
    "from sklearn.model_selection import train_test_split\n",
    "import tensorflow as tf\n",
    "from tensorflow import keras\n",
    "from sklearn.model_selection import train_test_split\n",
    "from sklearn.linear_model import LinearRegression\n",
    "from sklearn.metrics import mean_squared_error, r2_score\n",
    "import matplotlib.pyplot as plt\n",
    "import seaborn as sns\n",
    "\n",
    "df = pd.read_csv(\"/Users/anchanghun/Downloads/diabetes.csv\")"
   ]
  },
  {
   "cell_type": "code",
   "execution_count": 2,
   "id": "7a44fc39",
   "metadata": {},
   "outputs": [
    {
     "data": {
      "text/html": [
       "<div>\n",
       "<style scoped>\n",
       "    .dataframe tbody tr th:only-of-type {\n",
       "        vertical-align: middle;\n",
       "    }\n",
       "\n",
       "    .dataframe tbody tr th {\n",
       "        vertical-align: top;\n",
       "    }\n",
       "\n",
       "    .dataframe thead th {\n",
       "        text-align: right;\n",
       "    }\n",
       "</style>\n",
       "<table border=\"1\" class=\"dataframe\">\n",
       "  <thead>\n",
       "    <tr style=\"text-align: right;\">\n",
       "      <th></th>\n",
       "      <th>Pregnancies</th>\n",
       "      <th>Glucose</th>\n",
       "      <th>BloodPressure</th>\n",
       "      <th>SkinThickness</th>\n",
       "      <th>Insulin</th>\n",
       "      <th>BMI</th>\n",
       "      <th>DiabetesPedigreeFunction</th>\n",
       "      <th>Age</th>\n",
       "      <th>Outcome</th>\n",
       "    </tr>\n",
       "  </thead>\n",
       "  <tbody>\n",
       "    <tr>\n",
       "      <th>0</th>\n",
       "      <td>6</td>\n",
       "      <td>148</td>\n",
       "      <td>72</td>\n",
       "      <td>35</td>\n",
       "      <td>0</td>\n",
       "      <td>33.6</td>\n",
       "      <td>0.627</td>\n",
       "      <td>50</td>\n",
       "      <td>1</td>\n",
       "    </tr>\n",
       "    <tr>\n",
       "      <th>1</th>\n",
       "      <td>1</td>\n",
       "      <td>85</td>\n",
       "      <td>66</td>\n",
       "      <td>29</td>\n",
       "      <td>0</td>\n",
       "      <td>26.6</td>\n",
       "      <td>0.351</td>\n",
       "      <td>31</td>\n",
       "      <td>0</td>\n",
       "    </tr>\n",
       "    <tr>\n",
       "      <th>2</th>\n",
       "      <td>8</td>\n",
       "      <td>183</td>\n",
       "      <td>64</td>\n",
       "      <td>0</td>\n",
       "      <td>0</td>\n",
       "      <td>23.3</td>\n",
       "      <td>0.672</td>\n",
       "      <td>32</td>\n",
       "      <td>1</td>\n",
       "    </tr>\n",
       "    <tr>\n",
       "      <th>3</th>\n",
       "      <td>1</td>\n",
       "      <td>89</td>\n",
       "      <td>66</td>\n",
       "      <td>23</td>\n",
       "      <td>94</td>\n",
       "      <td>28.1</td>\n",
       "      <td>0.167</td>\n",
       "      <td>21</td>\n",
       "      <td>0</td>\n",
       "    </tr>\n",
       "    <tr>\n",
       "      <th>4</th>\n",
       "      <td>0</td>\n",
       "      <td>137</td>\n",
       "      <td>40</td>\n",
       "      <td>35</td>\n",
       "      <td>168</td>\n",
       "      <td>43.1</td>\n",
       "      <td>2.288</td>\n",
       "      <td>33</td>\n",
       "      <td>1</td>\n",
       "    </tr>\n",
       "  </tbody>\n",
       "</table>\n",
       "</div>"
      ],
      "text/plain": [
       "   Pregnancies  Glucose  BloodPressure  SkinThickness  Insulin   BMI  \\\n",
       "0            6      148             72             35        0  33.6   \n",
       "1            1       85             66             29        0  26.6   \n",
       "2            8      183             64              0        0  23.3   \n",
       "3            1       89             66             23       94  28.1   \n",
       "4            0      137             40             35      168  43.1   \n",
       "\n",
       "   DiabetesPedigreeFunction  Age  Outcome  \n",
       "0                     0.627   50        1  \n",
       "1                     0.351   31        0  \n",
       "2                     0.672   32        1  \n",
       "3                     0.167   21        0  \n",
       "4                     2.288   33        1  "
      ]
     },
     "execution_count": 2,
     "metadata": {},
     "output_type": "execute_result"
    }
   ],
   "source": [
    "df.head()"
   ]
  },
  {
   "cell_type": "code",
   "execution_count": 3,
   "id": "98f3a403",
   "metadata": {},
   "outputs": [
    {
     "data": {
      "text/html": [
       "<div>\n",
       "<style scoped>\n",
       "    .dataframe tbody tr th:only-of-type {\n",
       "        vertical-align: middle;\n",
       "    }\n",
       "\n",
       "    .dataframe tbody tr th {\n",
       "        vertical-align: top;\n",
       "    }\n",
       "\n",
       "    .dataframe thead th {\n",
       "        text-align: right;\n",
       "    }\n",
       "</style>\n",
       "<table border=\"1\" class=\"dataframe\">\n",
       "  <thead>\n",
       "    <tr style=\"text-align: right;\">\n",
       "      <th></th>\n",
       "      <th>Pregnancies</th>\n",
       "      <th>Glucose</th>\n",
       "      <th>BloodPressure</th>\n",
       "      <th>SkinThickness</th>\n",
       "      <th>Insulin</th>\n",
       "      <th>BMI</th>\n",
       "      <th>DiabetesPedigreeFunction</th>\n",
       "      <th>Age</th>\n",
       "    </tr>\n",
       "  </thead>\n",
       "  <tbody>\n",
       "    <tr>\n",
       "      <th>0</th>\n",
       "      <td>6</td>\n",
       "      <td>148</td>\n",
       "      <td>72</td>\n",
       "      <td>35</td>\n",
       "      <td>0</td>\n",
       "      <td>33.6</td>\n",
       "      <td>0.627</td>\n",
       "      <td>50</td>\n",
       "    </tr>\n",
       "    <tr>\n",
       "      <th>1</th>\n",
       "      <td>1</td>\n",
       "      <td>85</td>\n",
       "      <td>66</td>\n",
       "      <td>29</td>\n",
       "      <td>0</td>\n",
       "      <td>26.6</td>\n",
       "      <td>0.351</td>\n",
       "      <td>31</td>\n",
       "    </tr>\n",
       "    <tr>\n",
       "      <th>2</th>\n",
       "      <td>8</td>\n",
       "      <td>183</td>\n",
       "      <td>64</td>\n",
       "      <td>0</td>\n",
       "      <td>0</td>\n",
       "      <td>23.3</td>\n",
       "      <td>0.672</td>\n",
       "      <td>32</td>\n",
       "    </tr>\n",
       "    <tr>\n",
       "      <th>3</th>\n",
       "      <td>1</td>\n",
       "      <td>89</td>\n",
       "      <td>66</td>\n",
       "      <td>23</td>\n",
       "      <td>94</td>\n",
       "      <td>28.1</td>\n",
       "      <td>0.167</td>\n",
       "      <td>21</td>\n",
       "    </tr>\n",
       "    <tr>\n",
       "      <th>4</th>\n",
       "      <td>0</td>\n",
       "      <td>137</td>\n",
       "      <td>40</td>\n",
       "      <td>35</td>\n",
       "      <td>168</td>\n",
       "      <td>43.1</td>\n",
       "      <td>2.288</td>\n",
       "      <td>33</td>\n",
       "    </tr>\n",
       "    <tr>\n",
       "      <th>...</th>\n",
       "      <td>...</td>\n",
       "      <td>...</td>\n",
       "      <td>...</td>\n",
       "      <td>...</td>\n",
       "      <td>...</td>\n",
       "      <td>...</td>\n",
       "      <td>...</td>\n",
       "      <td>...</td>\n",
       "    </tr>\n",
       "    <tr>\n",
       "      <th>763</th>\n",
       "      <td>10</td>\n",
       "      <td>101</td>\n",
       "      <td>76</td>\n",
       "      <td>48</td>\n",
       "      <td>180</td>\n",
       "      <td>32.9</td>\n",
       "      <td>0.171</td>\n",
       "      <td>63</td>\n",
       "    </tr>\n",
       "    <tr>\n",
       "      <th>764</th>\n",
       "      <td>2</td>\n",
       "      <td>122</td>\n",
       "      <td>70</td>\n",
       "      <td>27</td>\n",
       "      <td>0</td>\n",
       "      <td>36.8</td>\n",
       "      <td>0.340</td>\n",
       "      <td>27</td>\n",
       "    </tr>\n",
       "    <tr>\n",
       "      <th>765</th>\n",
       "      <td>5</td>\n",
       "      <td>121</td>\n",
       "      <td>72</td>\n",
       "      <td>23</td>\n",
       "      <td>112</td>\n",
       "      <td>26.2</td>\n",
       "      <td>0.245</td>\n",
       "      <td>30</td>\n",
       "    </tr>\n",
       "    <tr>\n",
       "      <th>766</th>\n",
       "      <td>1</td>\n",
       "      <td>126</td>\n",
       "      <td>60</td>\n",
       "      <td>0</td>\n",
       "      <td>0</td>\n",
       "      <td>30.1</td>\n",
       "      <td>0.349</td>\n",
       "      <td>47</td>\n",
       "    </tr>\n",
       "    <tr>\n",
       "      <th>767</th>\n",
       "      <td>1</td>\n",
       "      <td>93</td>\n",
       "      <td>70</td>\n",
       "      <td>31</td>\n",
       "      <td>0</td>\n",
       "      <td>30.4</td>\n",
       "      <td>0.315</td>\n",
       "      <td>23</td>\n",
       "    </tr>\n",
       "  </tbody>\n",
       "</table>\n",
       "<p>768 rows × 8 columns</p>\n",
       "</div>"
      ],
      "text/plain": [
       "     Pregnancies  Glucose  BloodPressure  SkinThickness  Insulin   BMI  \\\n",
       "0              6      148             72             35        0  33.6   \n",
       "1              1       85             66             29        0  26.6   \n",
       "2              8      183             64              0        0  23.3   \n",
       "3              1       89             66             23       94  28.1   \n",
       "4              0      137             40             35      168  43.1   \n",
       "..           ...      ...            ...            ...      ...   ...   \n",
       "763           10      101             76             48      180  32.9   \n",
       "764            2      122             70             27        0  36.8   \n",
       "765            5      121             72             23      112  26.2   \n",
       "766            1      126             60              0        0  30.1   \n",
       "767            1       93             70             31        0  30.4   \n",
       "\n",
       "     DiabetesPedigreeFunction  Age  \n",
       "0                       0.627   50  \n",
       "1                       0.351   31  \n",
       "2                       0.672   32  \n",
       "3                       0.167   21  \n",
       "4                       2.288   33  \n",
       "..                        ...  ...  \n",
       "763                     0.171   63  \n",
       "764                     0.340   27  \n",
       "765                     0.245   30  \n",
       "766                     0.349   47  \n",
       "767                     0.315   23  \n",
       "\n",
       "[768 rows x 8 columns]"
      ]
     },
     "execution_count": 3,
     "metadata": {},
     "output_type": "execute_result"
    }
   ],
   "source": [
    "x= df.drop('Outcome',axis=1)\n",
    "x"
   ]
  },
  {
   "cell_type": "code",
   "execution_count": 4,
   "id": "b6fec399",
   "metadata": {},
   "outputs": [],
   "source": [
    "y = x['BMI']"
   ]
  },
  {
   "cell_type": "code",
   "execution_count": 5,
   "id": "e19e156e",
   "metadata": {},
   "outputs": [],
   "source": [
    "x= x.drop(columns=['BMI'],axis=1)"
   ]
  },
  {
   "cell_type": "code",
   "execution_count": 6,
   "id": "6520050a",
   "metadata": {},
   "outputs": [
    {
     "data": {
      "image/png": "[encoded data removed]",
      "text/plain": [
       "<Figure size 600x600 with 1 Axes>"
      ]
     },
     "metadata": {},
     "output_type": "display_data"
    }
   ],
   "source": [
    "\n",
    "df_corr=df.corr()\n",
    "\n",
    "#히트맵\n",
    "plt.figure(figsize=(6,6))\n",
    "sns.set(font_scale=0.8)\n",
    "sns.heatmap(df_corr, annot=True, cbar=False)\n",
    "plt.show()"
   ]
  },
  {
   "cell_type": "code",
   "execution_count": 7,
   "id": "6c7c7b91",
   "metadata": {},
   "outputs": [
    {
     "data": {
      "text/plain": [
       "array([[  6.   , 148.   ,  72.   , ...,   0.   ,   0.627,  50.   ],\n",
       "       [  1.   ,  85.   ,  66.   , ...,   0.   ,   0.351,  31.   ],\n",
       "       [  8.   , 183.   ,  64.   , ...,   0.   ,   0.672,  32.   ],\n",
       "       ...,\n",
       "       [  5.   , 121.   ,  72.   , ..., 112.   ,   0.245,  30.   ],\n",
       "       [  1.   , 126.   ,  60.   , ...,   0.   ,   0.349,  47.   ],\n",
       "       [  1.   ,  93.   ,  70.   , ...,   0.   ,   0.315,  23.   ]])"
      ]
     },
     "execution_count": 7,
     "metadata": {},
     "output_type": "execute_result"
    }
   ],
   "source": [
    "\n",
    "X = x.values\n",
    "X\n",
    "     "
   ]
  },
  {
   "cell_type": "code",
   "execution_count": 8,
   "id": "a39cedfe",
   "metadata": {},
   "outputs": [
    {
     "data": {
      "text/plain": [
       "0      33.6\n",
       "1      26.6\n",
       "2      23.3\n",
       "3      28.1\n",
       "4      43.1\n",
       "       ... \n",
       "763    32.9\n",
       "764    36.8\n",
       "765    26.2\n",
       "766    30.1\n",
       "767    30.4\n",
       "Name: BMI, Length: 768, dtype: float64"
      ]
     },
     "execution_count": 8,
     "metadata": {},
     "output_type": "execute_result"
    }
   ],
   "source": [
    "y\n"
   ]
  },
  {
   "cell_type": "code",
   "execution_count": 9,
   "id": "3d6e2f07",
   "metadata": {},
   "outputs": [],
   "source": [
    "from sklearn.preprocessing import StandardScaler\n",
    "# 특성 정규화\n",
    "scaler = StandardScaler()\n",
    "X_scaled = scaler.fit_transform(X)"
   ]
  },
  {
   "cell_type": "code",
   "execution_count": 10,
   "id": "b210ac1d",
   "metadata": {},
   "outputs": [],
   "source": [
    "from sklearn.model_selection import train_test_split\n",
    "X_train,X_test, y_train,y_test = train_test_split(X,y,test_size=0.2,random_state=0) "
   ]
  },
  {
   "cell_type": "code",
   "execution_count": 11,
   "id": "6d6053cd",
   "metadata": {},
   "outputs": [
    {
     "data": {
      "text/plain": [
       "603    35.2\n",
       "118    28.2\n",
       "247    52.3\n",
       "157    25.2\n",
       "468    30.0\n",
       "       ... \n",
       "763    32.9\n",
       "192    30.4\n",
       "629    24.7\n",
       "559    30.1\n",
       "684     0.0\n",
       "Name: BMI, Length: 614, dtype: float64"
      ]
     },
     "execution_count": 11,
     "metadata": {},
     "output_type": "execute_result"
    }
   ],
   "source": [
    "y_train"
   ]
  },
  {
   "cell_type": "code",
   "execution_count": 12,
   "id": "0c85dad6",
   "metadata": {},
   "outputs": [],
   "source": [
    "\n",
    "#Defining the model\n",
    "\n",
    "from keras.models import Sequential\n",
    "from keras.layers import Dense\n",
    "from keras.optimizers import SGD,Adam\n",
    "\n",
    "def model_fn(a_layer=None):\n",
    "\n",
    "    model = keras.Sequential()\n",
    "    model.add(Dense(10, input_shape=(7,), activation='tanh'))\n",
    "    model.add(Dense(15, activation='tanh'))\n",
    "    model.add(Dense(15, activation='tanh'))\n",
    "    if a_layer:\n",
    "      model.add(a_layer)\n",
    "    model.add(keras.layers.Dense(1))\n",
    "    return model\n",
    "     "
   ]
  },
  {
   "cell_type": "code",
   "execution_count": 13,
   "id": "7c827fca",
   "metadata": {},
   "outputs": [
    {
     "name": "stdout",
     "output_type": "stream",
     "text": [
      "Model: \"sequential\"\n",
      "_________________________________________________________________\n",
      " Layer (type)                Output Shape              Param #   \n",
      "=================================================================\n",
      " dense (Dense)               (None, 10)                80        \n",
      "                                                                 \n",
      " dense_1 (Dense)             (None, 15)                165       \n",
      "                                                                 \n",
      " dense_2 (Dense)             (None, 15)                240       \n",
      "                                                                 \n",
      " dense_3 (Dense)             (None, 1)                 16        \n",
      "                                                                 \n",
      "=================================================================\n",
      "Total params: 501 (1.96 KB)\n",
      "Trainable params: 501 (1.96 KB)\n",
      "Non-trainable params: 0 (0.00 Byte)\n",
      "_________________________________________________________________\n"
     ]
    }
   ],
   "source": [
    "model = model_fn()\n",
    "\n",
    "model.compile(optimizer = 'Adam', loss ='mse',metrics=['mse'])\n",
    "\n",
    "model.summary()"
   ]
  },
  {
   "cell_type": "code",
   "execution_count": 14,
   "id": "deacca3d",
   "metadata": {},
   "outputs": [
    {
     "name": "stdout",
     "output_type": "stream",
     "text": [
      "Epoch 1/10\n",
      "20/20 [==============================] - 0s 3ms/step - loss: 1114.4286 - mse: 1114.4286 - val_loss: 1018.8738 - val_mse: 1018.8738\n",
      "Epoch 2/10\n",
      "20/20 [==============================] - 0s 743us/step - loss: 1064.6807 - mse: 1064.6807 - val_loss: 969.8439 - val_mse: 969.8439\n",
      "Epoch 3/10\n",
      "20/20 [==============================] - 0s 828us/step - loss: 1010.3994 - mse: 1010.3994 - val_loss: 911.9499 - val_mse: 911.9499\n",
      "Epoch 4/10\n",
      "20/20 [==============================] - 0s 852us/step - loss: 949.1398 - mse: 949.1398 - val_loss: 850.2215 - val_mse: 850.2215\n",
      "Epoch 5/10\n",
      "20/20 [==============================] - 0s 870us/step - loss: 889.7165 - mse: 889.7165 - val_loss: 798.2625 - val_mse: 798.2625\n",
      "Epoch 6/10\n",
      "20/20 [==============================] - 0s 910us/step - loss: 840.4199 - mse: 840.4199 - val_loss: 756.5950 - val_mse: 756.5950\n",
      "Epoch 7/10\n",
      "20/20 [==============================] - 0s 846us/step - loss: 802.1939 - mse: 802.1939 - val_loss: 724.6720 - val_mse: 724.6720\n",
      "Epoch 8/10\n",
      "20/20 [==============================] - 0s 836us/step - loss: 771.7656 - mse: 771.7656 - val_loss: 698.3973 - val_mse: 698.3973\n",
      "Epoch 9/10\n",
      "20/20 [==============================] - 0s 857us/step - loss: 746.0416 - mse: 746.0416 - val_loss: 675.2255 - val_mse: 675.2255\n",
      "Epoch 10/10\n",
      "20/20 [==============================] - 0s 842us/step - loss: 722.9930 - mse: 722.9930 - val_loss: 654.4948 - val_mse: 654.4948\n",
      "5/5 [==============================] - 0s 515us/step\n"
     ]
    }
   ],
   "source": [
    "N_EPOCHS = 10\n",
    "\n",
    "history=model.fit(x=X_train, y=y_train, epochs=N_EPOCHS, batch_size=32,validation_data= (X_test,y_test))\n",
    "y_pred = model.predict(X_test)"
   ]
  },
  {
   "cell_type": "code",
   "execution_count": 15,
   "id": "1c63d4e6",
   "metadata": {},
   "outputs": [
    {
     "data": {
      "text/plain": [
       "array([[6.767516 ],\n",
       "       [6.7622685],\n",
       "       [6.7680173],\n",
       "       [6.7622685],\n",
       "       [6.76781  ],\n",
       "       [6.7680173],\n",
       "       [6.7622685],\n",
       "       [6.7622685],\n",
       "       [6.7622676],\n",
       "       [6.7622685],\n",
       "       [6.7622685],\n",
       "       [6.7622685],\n",
       "       [6.7680173],\n",
       "       [6.7622685],\n",
       "       [6.7680154],\n",
       "       [6.7680173],\n",
       "       [6.7622685],\n",
       "       [6.7680173],\n",
       "       [6.7680173],\n",
       "       [6.7622685],\n",
       "       [6.7680173],\n",
       "       [6.7680173],\n",
       "       [6.4242325],\n",
       "       [6.674539 ],\n",
       "       [6.7622685],\n",
       "       [6.7680173],\n",
       "       [6.7680173],\n",
       "       [6.7622685],\n",
       "       [6.7680173],\n",
       "       [6.7680173],\n",
       "       [6.7622685],\n",
       "       [6.7622685],\n",
       "       [6.7622685],\n",
       "       [6.7622685],\n",
       "       [6.7680173],\n",
       "       [6.6080623],\n",
       "       [6.7622685],\n",
       "       [6.7680173],\n",
       "       [6.7622685],\n",
       "       [6.7680173],\n",
       "       [6.7622685],\n",
       "       [6.7680173],\n",
       "       [6.7680173],\n",
       "       [6.7554326],\n",
       "       [6.5918727],\n",
       "       [6.7680173],\n",
       "       [6.76802  ],\n",
       "       [6.7622685],\n",
       "       [6.7622685],\n",
       "       [6.7680173],\n",
       "       [6.7680154],\n",
       "       [6.775278 ],\n",
       "       [6.7622685],\n",
       "       [6.7680173],\n",
       "       [6.7622685],\n",
       "       [6.221063 ],\n",
       "       [6.7680173],\n",
       "       [6.7680173],\n",
       "       [6.767691 ],\n",
       "       [6.4240875],\n",
       "       [6.7622685],\n",
       "       [6.7622685],\n",
       "       [6.7676578],\n",
       "       [6.4242325],\n",
       "       [6.6122246],\n",
       "       [6.6082892],\n",
       "       [6.768017 ],\n",
       "       [6.7680173],\n",
       "       [6.767938 ],\n",
       "       [6.7680173],\n",
       "       [6.768009 ],\n",
       "       [6.424233 ],\n",
       "       [6.7680063],\n",
       "       [6.7679687],\n",
       "       [6.6629524],\n",
       "       [6.7680173],\n",
       "       [6.7680173],\n",
       "       [6.7622685],\n",
       "       [6.7680173],\n",
       "       [6.7680125],\n",
       "       [6.7680173],\n",
       "       [6.7622685],\n",
       "       [6.7622685],\n",
       "       [6.7622685],\n",
       "       [6.7680173],\n",
       "       [6.7680173],\n",
       "       [6.612715 ],\n",
       "       [6.7622685],\n",
       "       [6.7622685],\n",
       "       [6.7622685],\n",
       "       [6.7680173],\n",
       "       [6.7680173],\n",
       "       [6.76228  ],\n",
       "       [6.7684617],\n",
       "       [6.7680173],\n",
       "       [6.7680173],\n",
       "       [6.7622685],\n",
       "       [6.7622685],\n",
       "       [6.7622685],\n",
       "       [6.768017 ],\n",
       "       [6.762265 ],\n",
       "       [6.7622685],\n",
       "       [6.7680173],\n",
       "       [6.7680173],\n",
       "       [6.7680173],\n",
       "       [6.7680173],\n",
       "       [6.7622685],\n",
       "       [6.7680173],\n",
       "       [6.7680173],\n",
       "       [6.599296 ],\n",
       "       [6.7680173],\n",
       "       [6.7622685],\n",
       "       [6.767472 ],\n",
       "       [6.7680173],\n",
       "       [6.5918746],\n",
       "       [6.7680144],\n",
       "       [6.5918727],\n",
       "       [6.7622657],\n",
       "       [6.7680173],\n",
       "       [6.7622685],\n",
       "       [6.7680173],\n",
       "       [6.768018 ],\n",
       "       [6.7622685],\n",
       "       [6.7680173],\n",
       "       [6.7680173],\n",
       "       [6.768016 ],\n",
       "       [6.7622685],\n",
       "       [6.7680173],\n",
       "       [6.6063485],\n",
       "       [6.767729 ],\n",
       "       [6.7622685],\n",
       "       [6.4241323],\n",
       "       [6.7680173],\n",
       "       [6.5916514],\n",
       "       [6.775009 ],\n",
       "       [6.7680173],\n",
       "       [6.767854 ],\n",
       "       [6.7680173],\n",
       "       [6.424233 ],\n",
       "       [6.6998878],\n",
       "       [6.7680173],\n",
       "       [6.7622685],\n",
       "       [6.7677407],\n",
       "       [6.7680173],\n",
       "       [6.768017 ],\n",
       "       [6.7680144],\n",
       "       [6.7680173],\n",
       "       [6.768018 ],\n",
       "       [6.7680173],\n",
       "       [6.7622685],\n",
       "       [6.7680173],\n",
       "       [6.7680173],\n",
       "       [6.7622685],\n",
       "       [6.7622685]], dtype=float32)"
      ]
     },
     "execution_count": 15,
     "metadata": {},
     "output_type": "execute_result"
    }
   ],
   "source": [
    "y_pred"
   ]
  },
  {
   "cell_type": "code",
   "execution_count": 16,
   "id": "df9b2ac7",
   "metadata": {},
   "outputs": [
    {
     "data": {
      "image/png": "[encoded data removed]",
      "text/plain": [
       "<Figure size 1000x700 with 1 Axes>"
      ]
     },
     "metadata": {},
     "output_type": "display_data"
    }
   ],
   "source": [
    "\n",
    "# loss 체크\n",
    "import matplotlib.pyplot as plt\n",
    "plt.figure(figsize=(10,7))\n",
    "plt.plot(range(N_EPOCHS), history.history['loss'], label='train loss')\n",
    "plt.plot(range(N_EPOCHS), history.history['val_loss'], label='test loss')\n",
    "plt.xlabel('Epoch')\n",
    "plt.ylabel('Loss')\n",
    "plt.legend()\n",
    "plt.show()"
   ]
  },
  {
   "cell_type": "code",
   "execution_count": 17,
   "id": "1fdb3496",
   "metadata": {},
   "outputs": [
    {
     "name": "stdout",
     "output_type": "stream",
     "text": [
      "평균제곱근오차 25.583096049725956\n"
     ]
    }
   ],
   "source": [
    "\n",
    "from sklearn.metrics import mean_squared_error\n",
    "mse = np.sqrt(mean_squared_error(y_pred, y_test))\n",
    "print('평균제곱근오차', mse)\n",
    "     "
   ]
  },
  {
   "cell_type": "code",
   "execution_count": 18,
   "id": "7b52435e",
   "metadata": {},
   "outputs": [
    {
     "name": "stdout",
     "output_type": "stream",
     "text": [
      "5/5 [==============================] - 0s 873us/step - loss: 654.4948 - mse: 654.4948\n"
     ]
    },
    {
     "data": {
      "text/plain": [
       "[654.4948120117188, 654.4948120117188]"
      ]
     },
     "execution_count": 18,
     "metadata": {},
     "output_type": "execute_result"
    }
   ],
   "source": [
    "model.evaluate(X_test, y_test)\n",
    "     "
   ]
  },
  {
   "cell_type": "code",
   "execution_count": 19,
   "id": "b2482ebe",
   "metadata": {},
   "outputs": [
    {
     "name": "stderr",
     "output_type": "stream",
     "text": [
      "/Users/anchanghun/anaconda3/lib/python3.11/site-packages/keras/src/engine/training.py:3103: UserWarning: You are saving your model as an HDF5 file via `model.save()`. This file format is considered legacy. We recommend using instead the native Keras format, e.g. `model.save('my_model.keras')`.\n",
      "  saving_api.save_model(\n"
     ]
    },
    {
     "name": "stdout",
     "output_type": "stream",
     "text": [
      "5/5 [==============================] - 0s 424us/step\n"
     ]
    }
   ],
   "source": [
    "\n",
    "# 두 콜백을 함께 사용\n",
    "\n",
    "N_EPOCHS = 20\n",
    "\n",
    "model = model_fn(keras.layers.Dropout(0.2))\n",
    "model.compile(optimizer='Adam', loss='mse',\n",
    "              metrics=['mse'])\n",
    "checkpoint_cb = keras.callbacks.ModelCheckpoint('best-model.h5',\n",
    "                                                save_best_only=True)\n",
    "early_stopping_cb = keras.callbacks.EarlyStopping(patience=3,\n",
    "                                                  restore_best_weights=True)\n",
    "\n",
    "history = model.fit(x=X_train,y=y_train, epochs=N_EPOCHS, batch_size=4, verbose=0,\n",
    "                    validation_data=(X_test, y_test),\n",
    "                    callbacks=[checkpoint_cb, early_stopping_cb])\n",
    "\n",
    "y_pred = model.predict(X_test)"
   ]
  },
  {
   "cell_type": "code",
   "execution_count": 20,
   "id": "75f0c6ad",
   "metadata": {},
   "outputs": [
    {
     "data": {
      "image/png": "[encoded data removed]",
      "text/plain": [
       "<Figure size 640x480 with 1 Axes>"
      ]
     },
     "metadata": {},
     "output_type": "display_data"
    }
   ],
   "source": [
    "\n",
    "# 훈련 손실과 검증 손실 출력\n",
    "\n",
    "plt.plot(history.history['loss'])\n",
    "plt.plot(history.history['val_loss'])\n",
    "plt.xlabel('epoch')\n",
    "plt.ylabel('loss')\n",
    "plt.legend(['train', 'test'])\n",
    "plt.show()\n"
   ]
  },
  {
   "cell_type": "code",
   "execution_count": 21,
   "id": "8409b3fd",
   "metadata": {},
   "outputs": [
    {
     "name": "stdout",
     "output_type": "stream",
     "text": [
      "평균 제곱근 오차 7.707495475514844\n"
     ]
    }
   ],
   "source": [
    "\n",
    "mse = np.sqrt(mean_squared_error(y_pred, y_test))\n",
    "print('평균 제곱근 오차', mse)\n",
    "     "
   ]
  },
  {
   "cell_type": "code",
   "execution_count": 22,
   "id": "90328dbc",
   "metadata": {},
   "outputs": [
    {
     "name": "stdout",
     "output_type": "stream",
     "text": [
      "5/5 [==============================] - 0s 585us/step - loss: 59.4055 - mse: 59.4055\n"
     ]
    },
    {
     "data": {
      "text/plain": [
       "[59.40549087524414, 59.40549087524414]"
      ]
     },
     "execution_count": 22,
     "metadata": {},
     "output_type": "execute_result"
    }
   ],
   "source": [
    "model.evaluate(X_test, y_test)"
   ]
  }
 ],
 "metadata": {
  "kernelspec": {
   "display_name": "Python 3 (ipykernel)",
   "language": "python",
   "name": "python3"
  },
  "language_info": {
   "codemirror_mode": {
    "name": "ipython",
    "version": 3
   },
   "file_extension": ".py",
   "mimetype": "text/x-python",
   "name": "python",
   "nbconvert_exporter": "python",
   "pygments_lexer": "ipython3",
   "version": "3.11.5"
  }
 },
 "nbformat": 4,
 "nbformat_minor": 5
}
