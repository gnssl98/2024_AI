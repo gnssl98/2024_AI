{
 "cells": [
  {
   "cell_type": "code",
   "execution_count": 1,
   "id": "9d6359a2",
   "metadata": {},
   "outputs": [
    {
     "name": "stderr",
     "output_type": "stream",
     "text": [
      "2024-08-17 00:31:54.296242: E tensorflow/compiler/xla/stream_executor/cuda/cuda_dnn.cc:9360] Unable to register cuDNN factory: Attempting to register factory for plugin cuDNN when one has already been registered\n",
      "2024-08-17 00:31:54.296303: E tensorflow/compiler/xla/stream_executor/cuda/cuda_fft.cc:609] Unable to register cuFFT factory: Attempting to register factory for plugin cuFFT when one has already been registered\n",
      "2024-08-17 00:31:54.296335: E tensorflow/compiler/xla/stream_executor/cuda/cuda_blas.cc:1537] Unable to register cuBLAS factory: Attempting to register factory for plugin cuBLAS when one has already been registered\n",
      "2024-08-17 00:31:54.304571: I tensorflow/core/platform/cpu_feature_guard.cc:183] This TensorFlow binary is optimized to use available CPU instructions in performance-critical operations.\n",
      "To enable the following instructions: SSE3 SSE4.1 SSE4.2 AVX, in other operations, rebuild TensorFlow with the appropriate compiler flags.\n"
     ]
    }
   ],
   "source": [
    "import pandas as pd\n",
    "import numpy as np\n",
    "import pickle\n",
    "import matplotlib.pyplot as plt\n",
    "from scipy import stats\n",
    "import tensorflow as tf\n",
    "import seaborn as sns\n",
    "from pylab import rcParams\n",
    "from sklearn.model_selection import train_test_split\n",
    "from keras.models import Model, load_model\n",
    "from keras.layers import Input, Dense\n",
    "from keras.callbacks import ModelCheckpoint, TensorBoard\n",
    "from keras import regularizers"
   ]
  },
  {
   "cell_type": "code",
   "execution_count": 2,
   "id": "f3700cab",
   "metadata": {},
   "outputs": [],
   "source": [
    "from tensorflow.keras.models import Model, load_model\n",
    "from tensorflow.keras.layers import Lambda, Input, Dense\n",
    "from tensorflow.keras.losses import mse, binary_crossentropy, kl_divergence\n",
    "from tensorflow.keras import optimizers\n",
    "from tensorflow.keras import backend as K\n",
    "\n",
    "from sklearn.model_selection import train_test_split\n",
    "from sklearn.preprocessing import MinMaxScaler, StandardScaler, PowerTransformer\n",
    "\n",
    "import seaborn as sns\n",
    "import matplotlib.pyplot as plt\n",
    "from sklearn.linear_model import LogisticRegression\n",
    "from sklearn.tree import DecisionTreeClassifier\n",
    "from sklearn.neighbors import KNeighborsClassifier\n",
    "from sklearn.model_selection import train_test_split\n",
    "from sklearn.metrics import accuracy_score\n",
    "from sklearn.model_selection import cross_val_score\n",
    "from sklearn.preprocessing import OneHotEncoder\n",
    "from sklearn.preprocessing import scale\n",
    "\n",
    "\n",
    "import numpy as np\n",
    "import pandas as pd"
   ]
  },
  {
   "cell_type": "code",
   "execution_count": 3,
   "id": "dd9e2d84",
   "metadata": {},
   "outputs": [
    {
     "data": {
      "text/html": [
       "<div>\n",
       "<style scoped>\n",
       "    .dataframe tbody tr th:only-of-type {\n",
       "        vertical-align: middle;\n",
       "    }\n",
       "\n",
       "    .dataframe tbody tr th {\n",
       "        vertical-align: top;\n",
       "    }\n",
       "\n",
       "    .dataframe thead th {\n",
       "        text-align: right;\n",
       "    }\n",
       "</style>\n",
       "<table border=\"1\" class=\"dataframe\">\n",
       "  <thead>\n",
       "    <tr style=\"text-align: right;\">\n",
       "      <th></th>\n",
       "      <th>duration</th>\n",
       "      <th>protocol_type</th>\n",
       "      <th>service</th>\n",
       "      <th>flag</th>\n",
       "      <th>src_bytes</th>\n",
       "      <th>dst_bytes</th>\n",
       "      <th>land</th>\n",
       "      <th>wrong_fragment</th>\n",
       "      <th>urgent</th>\n",
       "      <th>hot</th>\n",
       "      <th>...</th>\n",
       "      <th>dst_host_srv_count</th>\n",
       "      <th>dst_host_same_srv_rate</th>\n",
       "      <th>dst_host_diff_srv_rate</th>\n",
       "      <th>dst_host_same_src_port_rate</th>\n",
       "      <th>dst_host_srv_diff_host_rate</th>\n",
       "      <th>dst_host_serror_rate</th>\n",
       "      <th>dst_host_srv_serror_rate</th>\n",
       "      <th>dst_host_rerror_rate</th>\n",
       "      <th>dst_host_srv_rerror_rate</th>\n",
       "      <th>class</th>\n",
       "    </tr>\n",
       "  </thead>\n",
       "  <tbody>\n",
       "    <tr>\n",
       "      <th>0</th>\n",
       "      <td>0</td>\n",
       "      <td>tcp</td>\n",
       "      <td>ftp_data</td>\n",
       "      <td>SF</td>\n",
       "      <td>491</td>\n",
       "      <td>0</td>\n",
       "      <td>0</td>\n",
       "      <td>0</td>\n",
       "      <td>0</td>\n",
       "      <td>0</td>\n",
       "      <td>...</td>\n",
       "      <td>25</td>\n",
       "      <td>0.17</td>\n",
       "      <td>0.03</td>\n",
       "      <td>0.17</td>\n",
       "      <td>0.00</td>\n",
       "      <td>0.00</td>\n",
       "      <td>0.00</td>\n",
       "      <td>0.05</td>\n",
       "      <td>0.00</td>\n",
       "      <td>normal</td>\n",
       "    </tr>\n",
       "    <tr>\n",
       "      <th>1</th>\n",
       "      <td>0</td>\n",
       "      <td>udp</td>\n",
       "      <td>other</td>\n",
       "      <td>SF</td>\n",
       "      <td>146</td>\n",
       "      <td>0</td>\n",
       "      <td>0</td>\n",
       "      <td>0</td>\n",
       "      <td>0</td>\n",
       "      <td>0</td>\n",
       "      <td>...</td>\n",
       "      <td>1</td>\n",
       "      <td>0.00</td>\n",
       "      <td>0.60</td>\n",
       "      <td>0.88</td>\n",
       "      <td>0.00</td>\n",
       "      <td>0.00</td>\n",
       "      <td>0.00</td>\n",
       "      <td>0.00</td>\n",
       "      <td>0.00</td>\n",
       "      <td>normal</td>\n",
       "    </tr>\n",
       "    <tr>\n",
       "      <th>2</th>\n",
       "      <td>0</td>\n",
       "      <td>tcp</td>\n",
       "      <td>private</td>\n",
       "      <td>S0</td>\n",
       "      <td>0</td>\n",
       "      <td>0</td>\n",
       "      <td>0</td>\n",
       "      <td>0</td>\n",
       "      <td>0</td>\n",
       "      <td>0</td>\n",
       "      <td>...</td>\n",
       "      <td>26</td>\n",
       "      <td>0.10</td>\n",
       "      <td>0.05</td>\n",
       "      <td>0.00</td>\n",
       "      <td>0.00</td>\n",
       "      <td>1.00</td>\n",
       "      <td>1.00</td>\n",
       "      <td>0.00</td>\n",
       "      <td>0.00</td>\n",
       "      <td>anomaly</td>\n",
       "    </tr>\n",
       "    <tr>\n",
       "      <th>3</th>\n",
       "      <td>0</td>\n",
       "      <td>tcp</td>\n",
       "      <td>http</td>\n",
       "      <td>SF</td>\n",
       "      <td>232</td>\n",
       "      <td>8153</td>\n",
       "      <td>0</td>\n",
       "      <td>0</td>\n",
       "      <td>0</td>\n",
       "      <td>0</td>\n",
       "      <td>...</td>\n",
       "      <td>255</td>\n",
       "      <td>1.00</td>\n",
       "      <td>0.00</td>\n",
       "      <td>0.03</td>\n",
       "      <td>0.04</td>\n",
       "      <td>0.03</td>\n",
       "      <td>0.01</td>\n",
       "      <td>0.00</td>\n",
       "      <td>0.01</td>\n",
       "      <td>normal</td>\n",
       "    </tr>\n",
       "    <tr>\n",
       "      <th>4</th>\n",
       "      <td>0</td>\n",
       "      <td>tcp</td>\n",
       "      <td>http</td>\n",
       "      <td>SF</td>\n",
       "      <td>199</td>\n",
       "      <td>420</td>\n",
       "      <td>0</td>\n",
       "      <td>0</td>\n",
       "      <td>0</td>\n",
       "      <td>0</td>\n",
       "      <td>...</td>\n",
       "      <td>255</td>\n",
       "      <td>1.00</td>\n",
       "      <td>0.00</td>\n",
       "      <td>0.00</td>\n",
       "      <td>0.00</td>\n",
       "      <td>0.00</td>\n",
       "      <td>0.00</td>\n",
       "      <td>0.00</td>\n",
       "      <td>0.00</td>\n",
       "      <td>normal</td>\n",
       "    </tr>\n",
       "  </tbody>\n",
       "</table>\n",
       "<p>5 rows × 42 columns</p>\n",
       "</div>"
      ],
      "text/plain": [
       "   duration protocol_type   service flag  src_bytes  dst_bytes  land  \\\n",
       "0         0           tcp  ftp_data   SF        491          0     0   \n",
       "1         0           udp     other   SF        146          0     0   \n",
       "2         0           tcp   private   S0          0          0     0   \n",
       "3         0           tcp      http   SF        232       8153     0   \n",
       "4         0           tcp      http   SF        199        420     0   \n",
       "\n",
       "   wrong_fragment  urgent  hot  ...  dst_host_srv_count  \\\n",
       "0               0       0    0  ...                  25   \n",
       "1               0       0    0  ...                   1   \n",
       "2               0       0    0  ...                  26   \n",
       "3               0       0    0  ...                 255   \n",
       "4               0       0    0  ...                 255   \n",
       "\n",
       "   dst_host_same_srv_rate  dst_host_diff_srv_rate  \\\n",
       "0                    0.17                    0.03   \n",
       "1                    0.00                    0.60   \n",
       "2                    0.10                    0.05   \n",
       "3                    1.00                    0.00   \n",
       "4                    1.00                    0.00   \n",
       "\n",
       "   dst_host_same_src_port_rate  dst_host_srv_diff_host_rate  \\\n",
       "0                         0.17                         0.00   \n",
       "1                         0.88                         0.00   \n",
       "2                         0.00                         0.00   \n",
       "3                         0.03                         0.04   \n",
       "4                         0.00                         0.00   \n",
       "\n",
       "   dst_host_serror_rate  dst_host_srv_serror_rate  dst_host_rerror_rate  \\\n",
       "0                  0.00                      0.00                  0.05   \n",
       "1                  0.00                      0.00                  0.00   \n",
       "2                  1.00                      1.00                  0.00   \n",
       "3                  0.03                      0.01                  0.00   \n",
       "4                  0.00                      0.00                  0.00   \n",
       "\n",
       "   dst_host_srv_rerror_rate    class  \n",
       "0                      0.00   normal  \n",
       "1                      0.00   normal  \n",
       "2                      0.00  anomaly  \n",
       "3                      0.01   normal  \n",
       "4                      0.00   normal  \n",
       "\n",
       "[5 rows x 42 columns]"
      ]
     },
     "execution_count": 3,
     "metadata": {},
     "output_type": "execute_result"
    }
   ],
   "source": [
    "train_df = pd.read_csv('../newKDDTrain+.txt', header=None)\n",
    "\n",
    "columns = [\n",
    "    'duration', 'protocol_type', 'service', 'flag', 'src_bytes', 'dst_bytes', 'land',\n",
    "    'wrong_fragment', 'urgent', 'hot', 'num_failed_logins', 'logged_in', 'num_compromised',\n",
    "    'root_shell', 'su_attempted', 'num_root', 'num_file_creations', 'num_shells',\n",
    "    'num_access_files', 'num_outbound_cmds', 'is_host_login', 'is_guest_login', 'count',\n",
    "    'srv_count', 'serror_rate', 'srv_serror_rate', 'rerror_rate', 'srv_rerror_rate',\n",
    "    'same_srv_rate', 'diff_srv_rate', 'srv_diff_host_rate', 'dst_host_count',\n",
    "    'dst_host_srv_count', 'dst_host_same_srv_rate', 'dst_host_diff_srv_rate',\n",
    "    'dst_host_same_src_port_rate', 'dst_host_srv_diff_host_rate', 'dst_host_serror_rate',\n",
    "    'dst_host_srv_serror_rate', 'dst_host_rerror_rate', 'dst_host_srv_rerror_rate', 'class'\n",
    "]\n",
    "# Rename the columns of the DataFrame\n",
    "train_df.columns = columns\n",
    "\n",
    "train_df.head()"
   ]
  },
  {
   "cell_type": "code",
   "execution_count": 4,
   "id": "c9590feb",
   "metadata": {},
   "outputs": [
    {
     "data": {
      "text/html": [
       "<div>\n",
       "<style scoped>\n",
       "    .dataframe tbody tr th:only-of-type {\n",
       "        vertical-align: middle;\n",
       "    }\n",
       "\n",
       "    .dataframe tbody tr th {\n",
       "        vertical-align: top;\n",
       "    }\n",
       "\n",
       "    .dataframe thead th {\n",
       "        text-align: right;\n",
       "    }\n",
       "</style>\n",
       "<table border=\"1\" class=\"dataframe\">\n",
       "  <thead>\n",
       "    <tr style=\"text-align: right;\">\n",
       "      <th></th>\n",
       "      <th>duration</th>\n",
       "      <th>protocol_type</th>\n",
       "      <th>service</th>\n",
       "      <th>flag</th>\n",
       "      <th>src_bytes</th>\n",
       "      <th>dst_bytes</th>\n",
       "      <th>land</th>\n",
       "      <th>wrong_fragment</th>\n",
       "      <th>urgent</th>\n",
       "      <th>hot</th>\n",
       "      <th>...</th>\n",
       "      <th>dst_host_srv_count</th>\n",
       "      <th>dst_host_same_srv_rate</th>\n",
       "      <th>dst_host_diff_srv_rate</th>\n",
       "      <th>dst_host_same_src_port_rate</th>\n",
       "      <th>dst_host_srv_diff_host_rate</th>\n",
       "      <th>dst_host_serror_rate</th>\n",
       "      <th>dst_host_srv_serror_rate</th>\n",
       "      <th>dst_host_rerror_rate</th>\n",
       "      <th>dst_host_srv_rerror_rate</th>\n",
       "      <th>class</th>\n",
       "    </tr>\n",
       "  </thead>\n",
       "  <tbody>\n",
       "    <tr>\n",
       "      <th>0</th>\n",
       "      <td>0</td>\n",
       "      <td>tcp</td>\n",
       "      <td>private</td>\n",
       "      <td>REJ</td>\n",
       "      <td>0</td>\n",
       "      <td>0</td>\n",
       "      <td>0</td>\n",
       "      <td>0</td>\n",
       "      <td>0</td>\n",
       "      <td>0</td>\n",
       "      <td>...</td>\n",
       "      <td>10</td>\n",
       "      <td>0.04</td>\n",
       "      <td>0.06</td>\n",
       "      <td>0.00</td>\n",
       "      <td>0.00</td>\n",
       "      <td>0.0</td>\n",
       "      <td>0.0</td>\n",
       "      <td>1.00</td>\n",
       "      <td>1.00</td>\n",
       "      <td>anomaly</td>\n",
       "    </tr>\n",
       "    <tr>\n",
       "      <th>1</th>\n",
       "      <td>0</td>\n",
       "      <td>tcp</td>\n",
       "      <td>private</td>\n",
       "      <td>REJ</td>\n",
       "      <td>0</td>\n",
       "      <td>0</td>\n",
       "      <td>0</td>\n",
       "      <td>0</td>\n",
       "      <td>0</td>\n",
       "      <td>0</td>\n",
       "      <td>...</td>\n",
       "      <td>1</td>\n",
       "      <td>0.00</td>\n",
       "      <td>0.06</td>\n",
       "      <td>0.00</td>\n",
       "      <td>0.00</td>\n",
       "      <td>0.0</td>\n",
       "      <td>0.0</td>\n",
       "      <td>1.00</td>\n",
       "      <td>1.00</td>\n",
       "      <td>anomaly</td>\n",
       "    </tr>\n",
       "    <tr>\n",
       "      <th>2</th>\n",
       "      <td>2</td>\n",
       "      <td>tcp</td>\n",
       "      <td>ftp_data</td>\n",
       "      <td>SF</td>\n",
       "      <td>12983</td>\n",
       "      <td>0</td>\n",
       "      <td>0</td>\n",
       "      <td>0</td>\n",
       "      <td>0</td>\n",
       "      <td>0</td>\n",
       "      <td>...</td>\n",
       "      <td>86</td>\n",
       "      <td>0.61</td>\n",
       "      <td>0.04</td>\n",
       "      <td>0.61</td>\n",
       "      <td>0.02</td>\n",
       "      <td>0.0</td>\n",
       "      <td>0.0</td>\n",
       "      <td>0.00</td>\n",
       "      <td>0.00</td>\n",
       "      <td>normal</td>\n",
       "    </tr>\n",
       "    <tr>\n",
       "      <th>3</th>\n",
       "      <td>0</td>\n",
       "      <td>icmp</td>\n",
       "      <td>eco_i</td>\n",
       "      <td>SF</td>\n",
       "      <td>20</td>\n",
       "      <td>0</td>\n",
       "      <td>0</td>\n",
       "      <td>0</td>\n",
       "      <td>0</td>\n",
       "      <td>0</td>\n",
       "      <td>...</td>\n",
       "      <td>57</td>\n",
       "      <td>1.00</td>\n",
       "      <td>0.00</td>\n",
       "      <td>1.00</td>\n",
       "      <td>0.28</td>\n",
       "      <td>0.0</td>\n",
       "      <td>0.0</td>\n",
       "      <td>0.00</td>\n",
       "      <td>0.00</td>\n",
       "      <td>anomaly</td>\n",
       "    </tr>\n",
       "    <tr>\n",
       "      <th>4</th>\n",
       "      <td>1</td>\n",
       "      <td>tcp</td>\n",
       "      <td>telnet</td>\n",
       "      <td>RSTO</td>\n",
       "      <td>0</td>\n",
       "      <td>15</td>\n",
       "      <td>0</td>\n",
       "      <td>0</td>\n",
       "      <td>0</td>\n",
       "      <td>0</td>\n",
       "      <td>...</td>\n",
       "      <td>86</td>\n",
       "      <td>0.31</td>\n",
       "      <td>0.17</td>\n",
       "      <td>0.03</td>\n",
       "      <td>0.02</td>\n",
       "      <td>0.0</td>\n",
       "      <td>0.0</td>\n",
       "      <td>0.83</td>\n",
       "      <td>0.71</td>\n",
       "      <td>anomaly</td>\n",
       "    </tr>\n",
       "  </tbody>\n",
       "</table>\n",
       "<p>5 rows × 42 columns</p>\n",
       "</div>"
      ],
      "text/plain": [
       "   duration protocol_type   service  flag  src_bytes  dst_bytes  land  \\\n",
       "0         0           tcp   private   REJ          0          0     0   \n",
       "1         0           tcp   private   REJ          0          0     0   \n",
       "2         2           tcp  ftp_data    SF      12983          0     0   \n",
       "3         0          icmp     eco_i    SF         20          0     0   \n",
       "4         1           tcp    telnet  RSTO          0         15     0   \n",
       "\n",
       "   wrong_fragment  urgent  hot  ...  dst_host_srv_count  \\\n",
       "0               0       0    0  ...                  10   \n",
       "1               0       0    0  ...                   1   \n",
       "2               0       0    0  ...                  86   \n",
       "3               0       0    0  ...                  57   \n",
       "4               0       0    0  ...                  86   \n",
       "\n",
       "   dst_host_same_srv_rate  dst_host_diff_srv_rate  \\\n",
       "0                    0.04                    0.06   \n",
       "1                    0.00                    0.06   \n",
       "2                    0.61                    0.04   \n",
       "3                    1.00                    0.00   \n",
       "4                    0.31                    0.17   \n",
       "\n",
       "   dst_host_same_src_port_rate  dst_host_srv_diff_host_rate  \\\n",
       "0                         0.00                         0.00   \n",
       "1                         0.00                         0.00   \n",
       "2                         0.61                         0.02   \n",
       "3                         1.00                         0.28   \n",
       "4                         0.03                         0.02   \n",
       "\n",
       "   dst_host_serror_rate  dst_host_srv_serror_rate  dst_host_rerror_rate  \\\n",
       "0                   0.0                       0.0                  1.00   \n",
       "1                   0.0                       0.0                  1.00   \n",
       "2                   0.0                       0.0                  0.00   \n",
       "3                   0.0                       0.0                  0.00   \n",
       "4                   0.0                       0.0                  0.83   \n",
       "\n",
       "   dst_host_srv_rerror_rate    class  \n",
       "0                      1.00  anomaly  \n",
       "1                      1.00  anomaly  \n",
       "2                      0.00   normal  \n",
       "3                      0.00  anomaly  \n",
       "4                      0.71  anomaly  \n",
       "\n",
       "[5 rows x 42 columns]"
      ]
     },
     "execution_count": 4,
     "metadata": {},
     "output_type": "execute_result"
    }
   ],
   "source": [
    "test_df = pd.read_csv('../newKDDTest+.txt', header=None)\n",
    "\n",
    "test_columns = [\n",
    "    'duration', 'protocol_type', 'service', 'flag', 'src_bytes', 'dst_bytes', 'land',\n",
    "    'wrong_fragment', 'urgent', 'hot', 'num_failed_logins', 'logged_in', 'num_compromised',\n",
    "    'root_shell', 'su_attempted', 'num_root', 'num_file_creations', 'num_shells',\n",
    "    'num_access_files', 'num_outbound_cmds', 'is_host_login', 'is_guest_login', 'count',\n",
    "    'srv_count', 'serror_rate', 'srv_serror_rate', 'rerror_rate', 'srv_rerror_rate',\n",
    "    'same_srv_rate', 'diff_srv_rate', 'srv_diff_host_rate', 'dst_host_count',\n",
    "    'dst_host_srv_count', 'dst_host_same_srv_rate', 'dst_host_diff_srv_rate',\n",
    "    'dst_host_same_src_port_rate', 'dst_host_srv_diff_host_rate', 'dst_host_serror_rate',\n",
    "    'dst_host_srv_serror_rate', 'dst_host_rerror_rate', 'dst_host_srv_rerror_rate', 'class'\n",
    "]\n",
    "# Rename the columns of the DataFrame\n",
    "test_df.columns = columns\n",
    "\n",
    "test_df.head()"
   ]
  },
  {
   "cell_type": "code",
   "execution_count": 5,
   "id": "415e75dc",
   "metadata": {},
   "outputs": [],
   "source": [
    "df = pd.concat([train_df, test_df])"
   ]
  },
  {
   "cell_type": "code",
   "execution_count": 6,
   "id": "6288929f",
   "metadata": {},
   "outputs": [
    {
     "data": {
      "text/plain": [
       "0         normal\n",
       "1         normal\n",
       "2        anomaly\n",
       "3         normal\n",
       "4         normal\n",
       "          ...   \n",
       "22539     normal\n",
       "22540     normal\n",
       "22541    anomaly\n",
       "22542     normal\n",
       "22543    anomaly\n",
       "Name: class, Length: 148517, dtype: object"
      ]
     },
     "execution_count": 6,
     "metadata": {},
     "output_type": "execute_result"
    }
   ],
   "source": [
    "df['class']"
   ]
  },
  {
   "cell_type": "code",
   "execution_count": 7,
   "id": "a1798822",
   "metadata": {},
   "outputs": [
    {
     "data": {
      "text/plain": [
       "False"
      ]
     },
     "execution_count": 7,
     "metadata": {},
     "output_type": "execute_result"
    }
   ],
   "source": [
    "df.isnull().values.any()"
   ]
  },
  {
   "cell_type": "code",
   "execution_count": 8,
   "id": "26ca4dc3",
   "metadata": {},
   "outputs": [
    {
     "data": {
      "text/plain": [
       "42"
      ]
     },
     "execution_count": 8,
     "metadata": {},
     "output_type": "execute_result"
    }
   ],
   "source": [
    "len(df.columns)"
   ]
  },
  {
   "cell_type": "code",
   "execution_count": 9,
   "id": "f4a5bc66",
   "metadata": {},
   "outputs": [
    {
     "data": {
      "text/plain": [
       "(148517, 42)"
      ]
     },
     "execution_count": 9,
     "metadata": {},
     "output_type": "execute_result"
    }
   ],
   "source": [
    "df.shape"
   ]
  },
  {
   "cell_type": "code",
   "execution_count": 10,
   "id": "c3704849",
   "metadata": {},
   "outputs": [
    {
     "name": "stdout",
     "output_type": "stream",
     "text": [
      "   duration protocol_type   service flag  src_bytes  dst_bytes  land  \\\n",
      "0         0           tcp  ftp_data   SF        491          0     0   \n",
      "1         0           udp     other   SF        146          0     0   \n",
      "2         0           tcp   private   S0          0          0     0   \n",
      "3         0           tcp      http   SF        232       8153     0   \n",
      "4         0           tcp      http   SF        199        420     0   \n",
      "\n",
      "   wrong_fragment  urgent  hot  ...  dst_host_srv_count  \\\n",
      "0               0       0    0  ...                  25   \n",
      "1               0       0    0  ...                   1   \n",
      "2               0       0    0  ...                  26   \n",
      "3               0       0    0  ...                 255   \n",
      "4               0       0    0  ...                 255   \n",
      "\n",
      "   dst_host_same_srv_rate  dst_host_diff_srv_rate  \\\n",
      "0                    0.17                    0.03   \n",
      "1                    0.00                    0.60   \n",
      "2                    0.10                    0.05   \n",
      "3                    1.00                    0.00   \n",
      "4                    1.00                    0.00   \n",
      "\n",
      "   dst_host_same_src_port_rate  dst_host_srv_diff_host_rate  \\\n",
      "0                         0.17                         0.00   \n",
      "1                         0.88                         0.00   \n",
      "2                         0.00                         0.00   \n",
      "3                         0.03                         0.04   \n",
      "4                         0.00                         0.00   \n",
      "\n",
      "   dst_host_serror_rate  dst_host_srv_serror_rate  dst_host_rerror_rate  \\\n",
      "0                  0.00                      0.00                  0.05   \n",
      "1                  0.00                      0.00                  0.00   \n",
      "2                  1.00                      1.00                  0.00   \n",
      "3                  0.03                      0.01                  0.00   \n",
      "4                  0.00                      0.00                  0.00   \n",
      "\n",
      "   dst_host_srv_rerror_rate  class  \n",
      "0                      0.00      0  \n",
      "1                      0.00      0  \n",
      "2                      0.00      1  \n",
      "3                      0.01      0  \n",
      "4                      0.00      0  \n",
      "\n",
      "[5 rows x 42 columns]\n"
     ]
    }
   ],
   "source": [
    "# 'label' 열의 값이 'normal.'이면 0으로, 'normal.'이 아니면 1로 변경\n",
    "df['class'] = df['class'].apply(lambda x: 0 if x == 'normal' else 1)\n",
    "\n",
    "# 변경된 데이터프레임 확인\n",
    "print(df.head())"
   ]
  },
  {
   "cell_type": "code",
   "execution_count": 11,
   "id": "8d1a618e",
   "metadata": {},
   "outputs": [
    {
     "name": "stdout",
     "output_type": "stream",
     "text": [
      "   duration  protocol_type  service  flag  src_bytes  dst_bytes  land  \\\n",
      "0         0              1       20     9        491          0     0   \n",
      "1         0              2       44     9        146          0     0   \n",
      "2         0              1       49     5          0          0     0   \n",
      "3         0              1       24     9        232       8153     0   \n",
      "4         0              1       24     9        199        420     0   \n",
      "\n",
      "   wrong_fragment  urgent  hot  ...  dst_host_srv_count  \\\n",
      "0               0       0    0  ...                  25   \n",
      "1               0       0    0  ...                   1   \n",
      "2               0       0    0  ...                  26   \n",
      "3               0       0    0  ...                 255   \n",
      "4               0       0    0  ...                 255   \n",
      "\n",
      "   dst_host_same_srv_rate  dst_host_diff_srv_rate  \\\n",
      "0                    0.17                    0.03   \n",
      "1                    0.00                    0.60   \n",
      "2                    0.10                    0.05   \n",
      "3                    1.00                    0.00   \n",
      "4                    1.00                    0.00   \n",
      "\n",
      "   dst_host_same_src_port_rate  dst_host_srv_diff_host_rate  \\\n",
      "0                         0.17                         0.00   \n",
      "1                         0.88                         0.00   \n",
      "2                         0.00                         0.00   \n",
      "3                         0.03                         0.04   \n",
      "4                         0.00                         0.00   \n",
      "\n",
      "   dst_host_serror_rate  dst_host_srv_serror_rate  dst_host_rerror_rate  \\\n",
      "0                  0.00                      0.00                  0.05   \n",
      "1                  0.00                      0.00                  0.00   \n",
      "2                  1.00                      1.00                  0.00   \n",
      "3                  0.03                      0.01                  0.00   \n",
      "4                  0.00                      0.00                  0.00   \n",
      "\n",
      "   dst_host_srv_rerror_rate  class  \n",
      "0                      0.00      0  \n",
      "1                      0.00      0  \n",
      "2                      0.00      1  \n",
      "3                      0.01      0  \n",
      "4                      0.00      0  \n",
      "\n",
      "[5 rows x 42 columns]\n"
     ]
    }
   ],
   "source": [
    "from sklearn.preprocessing import LabelEncoder\n",
    "\n",
    "# Label Encoding 적용\n",
    "label_encoder = LabelEncoder()\n",
    "df['protocol_type'] = label_encoder.fit_transform(df['protocol_type'])\n",
    "df['service'] = label_encoder.fit_transform(df['service'])\n",
    "df['flag'] = label_encoder.fit_transform(df['flag'])\n",
    "\n",
    "# 인코딩된 데이터프레임 확인\n",
    "print(df.head())"
   ]
  },
  {
   "cell_type": "code",
   "execution_count": 12,
   "id": "509a0da5",
   "metadata": {},
   "outputs": [],
   "source": [
    "# 상관계수 계산\n",
    "correlation_matrix = df.corr()\n",
    "label_correlation = correlation_matrix['class'].drop('class')\n",
    "\n",
    "# 상관계수가 높은 컬럼 선택\n",
    "top_features = label_correlation.abs().sort_values(ascending=False).head(5).index  # 상위 5개 컬럼 선택\n",
    "\n"
   ]
  },
  {
   "cell_type": "code",
   "execution_count": 13,
   "id": "8a7cee3f",
   "metadata": {},
   "outputs": [
    {
     "name": "stdout",
     "output_type": "stream",
     "text": [
      "Index(['same_srv_rate', 'dst_host_srv_count', 'dst_host_same_srv_rate',\n",
      "       'logged_in', 'flag'],\n",
      "      dtype='object')\n"
     ]
    }
   ],
   "source": [
    "print(top_features)"
   ]
  },
  {
   "cell_type": "code",
   "execution_count": 14,
   "id": "2190e86f",
   "metadata": {
    "scrolled": true
   },
   "outputs": [
    {
     "name": "stdout",
     "output_type": "stream",
     "text": [
      "Columns with correlation greater than 0.4 with 'Label':\n",
      "flag                       -0.629556\n",
      "logged_in                  -0.664117\n",
      "count                       0.524108\n",
      "serror_rate                 0.588474\n",
      "srv_serror_rate             0.586636\n",
      "same_srv_rate              -0.708911\n",
      "dst_host_srv_count         -0.692577\n",
      "dst_host_same_srv_rate     -0.667624\n",
      "dst_host_serror_rate        0.589936\n",
      "dst_host_srv_serror_rate    0.593690\n",
      "Name: class, dtype: float64\n"
     ]
    }
   ],
   "source": [
    "# ' Label' 컬럼과의 상관계수 계산\n",
    "label_correlation = correlation_matrix['class'].drop('class')\n",
    "\n",
    "# 상관계수가 0.4를 넘는 컬럼 선택\n",
    "significant_features = label_correlation[abs(label_correlation) > 0.38]\n",
    "print(\"Columns with correlation greater than 0.4 with 'Label':\")\n",
    "print(significant_features)"
   ]
  },
  {
   "cell_type": "code",
   "execution_count": 15,
   "id": "32056cd1",
   "metadata": {},
   "outputs": [
    {
     "data": {
      "text/plain": [
       "Index(['same_srv_rate', 'dst_host_srv_count', 'dst_host_same_srv_rate',\n",
       "       'logged_in', 'flag', 'count', 'srv_serror_rate', 'serror_rate',\n",
       "       'dst_host_serror_rate', 'dst_host_srv_serror_rate'],\n",
       "      dtype='object')"
      ]
     },
     "execution_count": 15,
     "metadata": {},
     "output_type": "execute_result"
    }
   ],
   "source": [
    "significant_features.sort_values().index"
   ]
  },
  {
   "cell_type": "code",
   "execution_count": 16,
   "id": "17304546",
   "metadata": {},
   "outputs": [],
   "source": [
    "columns_list = ['same_srv_rate', 'dst_host_srv_count', 'dst_host_same_srv_rate',\n",
    "       'logged_in', 'flag', 'count', 'srv_serror_rate', 'serror_rate',\n",
    "       'dst_host_serror_rate', 'dst_host_srv_serror_rate', 'class']\n",
    "df=df[columns_list]\n"
   ]
  },
  {
   "cell_type": "code",
   "execution_count": 17,
   "id": "1ac1be33",
   "metadata": {},
   "outputs": [
    {
     "data": {
      "text/plain": [
       "(148517, 11)"
      ]
     },
     "execution_count": 17,
     "metadata": {},
     "output_type": "execute_result"
    }
   ],
   "source": [
    "df.shape"
   ]
  },
  {
   "cell_type": "code",
   "execution_count": 18,
   "id": "011dd60b",
   "metadata": {},
   "outputs": [
    {
     "data": {
      "text/plain": [
       "((133665, 11), (14852, 11))"
      ]
     },
     "execution_count": 18,
     "metadata": {},
     "output_type": "execute_result"
    }
   ],
   "source": [
    "from sklearn.model_selection import train_test_split\n",
    "\n",
    "X_train, X_test = train_test_split(df, test_size=0.1, random_state=42)\n",
    "X_train.shape, X_test.shape"
   ]
  },
  {
   "cell_type": "code",
   "execution_count": 19,
   "id": "18bf2594",
   "metadata": {},
   "outputs": [
    {
     "data": {
      "text/plain": [
       "0    69334\n",
       "1    64331\n",
       "Name: class, dtype: int64"
      ]
     },
     "execution_count": 19,
     "metadata": {},
     "output_type": "execute_result"
    }
   ],
   "source": [
    "X_train['class'].value_counts()"
   ]
  },
  {
   "cell_type": "code",
   "execution_count": 20,
   "id": "b875f3ed",
   "metadata": {},
   "outputs": [
    {
     "data": {
      "text/plain": [
       "(69334, 11)"
      ]
     },
     "execution_count": 20,
     "metadata": {},
     "output_type": "execute_result"
    }
   ],
   "source": [
    "normal = X_train[X_train['class'] == 0]\n",
    "normal.shape"
   ]
  },
  {
   "cell_type": "code",
   "execution_count": 22,
   "id": "6cfca8b3",
   "metadata": {},
   "outputs": [],
   "source": [
    "X_test_normal = X_test[X_test['class']==0]\n",
    "#X_test_normal.shpae"
   ]
  },
  {
   "cell_type": "code",
   "execution_count": 23,
   "id": "971b9f62",
   "metadata": {},
   "outputs": [],
   "source": [
    "y_train = normal['class']\n",
    "X_train_normal = normal.drop(labels='class', axis=1)\n",
    "\n",
    "y_test = X_test['class']\n",
    "X_test_normal = X_test_normal.drop(labels='class', axis=1)"
   ]
  },
  {
   "cell_type": "code",
   "execution_count": 24,
   "id": "49ba8ae0",
   "metadata": {},
   "outputs": [],
   "source": [
    "from sklearn.preprocessing import MinMaxScaler\n",
    "\n",
    "scaler = MinMaxScaler()\n",
    "\n",
    "scaler.fit(X_train_normal)\n",
    "scaler.fit(X_test_normal)\n",
    "\n",
    "X_train_ft = scaler.transform(X_train_normal)\n",
    "X_test_ft = scaler.transform(X_test_normal)"
   ]
  },
  {
   "cell_type": "code",
   "execution_count": 25,
   "id": "06d247e6",
   "metadata": {},
   "outputs": [
    {
     "name": "stdout",
     "output_type": "stream",
     "text": [
      "Training data shape: (69334, 1, 10)\n",
      "Test data shape: (7720, 1, 10)\n"
     ]
    }
   ],
   "source": [
    "#reshape inputs for LSTM [samples, timesteps, features]\n",
    "\n",
    "X_train_ft = X_train_ft.reshape(X_train_ft.shape[0], 1, X_train_ft.shape[1])\n",
    "print(\"Training data shape:\", X_train_ft.shape)\n",
    "\n",
    "X_test_ft = X_test_ft.reshape(X_test_ft.shape[0], 1, X_test_ft.shape[1])\n",
    "print(\"Test data shape:\", X_test_ft.shape)\n"
   ]
  },
  {
   "cell_type": "code",
   "execution_count": 46,
   "id": "bb16cea1",
   "metadata": {},
   "outputs": [],
   "source": [
    "X_test = X_test.drop(labels='class',axis=1)\n",
    "scaler.fit(X_test)\n",
    "X_test = scaler.transform(X_test)\n",
    "X_test = X_test.reshape(X_test.shape[0], 1, X_test.shape[1])"
   ]
  },
  {
   "cell_type": "code",
   "execution_count": 28,
   "id": "c2668e3b",
   "metadata": {},
   "outputs": [
    {
     "name": "stdout",
     "output_type": "stream",
     "text": [
      "Training data shape: (69334, 1, 1)\n",
      "Test data shape: (14852, 1, 1)\n"
     ]
    }
   ],
   "source": [
    "y_train = np.array(y_train)\n",
    "y_test = np.array(y_test)# Reshape the arrays as needed\n",
    "\n",
    "y_train = y_train.reshape(X_train_ft.shape[0], 1, X_train_ft.shape[1])\n",
    "print(\"Training data shape:\", y_train.shape)\n",
    "\n",
    "y_test = y_test.reshape(X_test.shape[0], 1, 1)\n",
    "print(\"Test data shape:\", y_test.shape)"
   ]
  },
  {
   "cell_type": "code",
   "execution_count": 29,
   "id": "53f69c4b",
   "metadata": {},
   "outputs": [
    {
     "data": {
      "text/plain": [
       "((69334, 1, 10), (7720, 1, 10))"
      ]
     },
     "execution_count": 29,
     "metadata": {},
     "output_type": "execute_result"
    }
   ],
   "source": [
    "X_train_ft.shape, X_test_ft.shape"
   ]
  },
  {
   "cell_type": "code",
   "execution_count": 30,
   "id": "98dcdd5b",
   "metadata": {},
   "outputs": [
    {
     "name": "stdout",
     "output_type": "stream",
     "text": [
      "Defaulting to user installation because normal site-packages is not writeable\n",
      "Requirement already satisfied: keras_self_attention in /home/work/.local/lib/python3.10/site-packages (0.51.0)\n",
      "Requirement already satisfied: numpy in /usr/local/lib/python3.10/dist-packages (from keras_self_attention) (1.24.4)\n"
     ]
    }
   ],
   "source": [
    "!pip install keras_self_attention"
   ]
  },
  {
   "cell_type": "code",
   "execution_count": 31,
   "id": "417d89f9",
   "metadata": {},
   "outputs": [],
   "source": [
    "import tensorflow as tf\n",
    "from tensorflow.keras import optimizers\n",
    "from tensorflow.keras.models import Model\n",
    "from tensorflow.keras.layers import Input, Dense, Dropout\n",
    "from tensorflow.keras.utils import plot_model\n",
    "import tensorflow as tf\n",
    "from keras.layers import Input, Dropout, Dense, LSTM, TimeDistributed, RepeatVector, Conv1D, Conv1DTranspose\n",
    "from keras.models import Model\n",
    "from keras import regularizers\n",
    "from keras_self_attention import SeqWeightedAttention, SeqSelfAttention"
   ]
  },
  {
   "cell_type": "code",
   "execution_count": 33,
   "id": "309fa778",
   "metadata": {},
   "outputs": [
    {
     "name": "stdout",
     "output_type": "stream",
     "text": [
      "WARNING:tensorflow:Layer lstm_4 will not use cuDNN kernels since it doesn't meet the criteria. It will use a generic GPU kernel as fallback when running on GPU.\n",
      "WARNING:tensorflow:Layer lstm_5 will not use cuDNN kernels since it doesn't meet the criteria. It will use a generic GPU kernel as fallback when running on GPU.\n",
      "WARNING:tensorflow:Layer lstm_6 will not use cuDNN kernels since it doesn't meet the criteria. It will use a generic GPU kernel as fallback when running on GPU.\n",
      "WARNING:tensorflow:Layer lstm_7 will not use cuDNN kernels since it doesn't meet the criteria. It will use a generic GPU kernel as fallback when running on GPU.\n",
      "Model: \"model_1\"\n",
      "__________________________________________________________________________________________________\n",
      " Layer (type)                Output Shape                 Param #   Connected to                  \n",
      "==================================================================================================\n",
      " InputTimeSeries (InputLaye  [(None, 1, 10)]              0         []                            \n",
      " r)                                                                                               \n",
      "                                                                                                  \n",
      " conv1d_3 (Conv1D)           (None, 1, 64)                1984      ['InputTimeSeries[0][0]']     \n",
      "                                                                                                  \n",
      " conv1d_4 (Conv1D)           (None, 1, 32)                6176      ['conv1d_3[0][0]']            \n",
      "                                                                                                  \n",
      " conv1d_5 (Conv1D)           (None, 1, 16)                1552      ['conv1d_4[0][0]']            \n",
      "                                                                                                  \n",
      " lstm_4 (LSTM)               (None, 1, 3)                 240       ['conv1d_5[0][0]']            \n",
      "                                                                                                  \n",
      " seq_self_attention_2 (SeqS  (None, 1, 3)                 257       ['lstm_4[0][0]']              \n",
      " elfAttention)                                                                                    \n",
      "                                                                                                  \n",
      " lstm_5 (LSTM)               (None, 3)                    84        ['seq_self_attention_2[0][0]']\n",
      "                                                                                                  \n",
      " dense_7 (Dense)             (None, 3)                    12        ['lstm_5[0][0]']              \n",
      "                                                                                                  \n",
      " dense_8 (Dense)             (None, 3)                    12        ['dense_7[0][0]']             \n",
      "                                                                                                  \n",
      " dense_9 (Dense)             (None, 2)                    8         ['dense_8[0][0]']             \n",
      "                                                                                                  \n",
      " dense_10 (Dense)            (None, 2)                    8         ['dense_8[0][0]']             \n",
      "                                                                                                  \n",
      " lambda_1 (Lambda)           (None, 2)                    0         ['dense_9[0][0]',             \n",
      "                                                                     'dense_10[0][0]']            \n",
      "                                                                                                  \n",
      " repeat_vector_1 (RepeatVec  (None, 1, 2)                 0         ['lambda_1[0][0]']            \n",
      " tor)                                                                                             \n",
      "                                                                                                  \n",
      " dense_11 (Dense)            (None, 1, 3)                 9         ['repeat_vector_1[0][0]']     \n",
      "                                                                                                  \n",
      " dense_12 (Dense)            (None, 1, 3)                 12        ['dense_11[0][0]']            \n",
      "                                                                                                  \n",
      " lstm_6 (LSTM)               (None, 1, 3)                 84        ['dense_12[0][0]']            \n",
      "                                                                                                  \n",
      " lstm_7 (LSTM)               (None, 1, 3)                 84        ['lstm_6[0][0]']              \n",
      "                                                                                                  \n",
      " seq_self_attention_3 (SeqS  (None, 1, 3)                 257       ['lstm_7[0][0]']              \n",
      " elfAttention)                                                                                    \n",
      "                                                                                                  \n",
      " conv1d_transpose_3 (Conv1D  (None, 1, 16)                160       ['seq_self_attention_3[0][0]']\n",
      " Transpose)                                                                                       \n",
      "                                                                                                  \n",
      " conv1d_transpose_4 (Conv1D  (None, 1, 32)                1568      ['conv1d_transpose_3[0][0]']  \n",
      " Transpose)                                                                                       \n",
      "                                                                                                  \n",
      " conv1d_transpose_5 (Conv1D  (None, 1, 64)                6208      ['conv1d_transpose_4[0][0]']  \n",
      " Transpose)                                                                                       \n",
      "                                                                                                  \n",
      " time_distributed_1 (TimeDi  (None, 1, 10)                650       ['conv1d_transpose_5[0][0]']  \n",
      " stributed)                                                                                       \n",
      "                                                                                                  \n",
      " tf.__operators__.add_2 (TF  (None, 2)                    0         ['dense_10[0][0]']            \n",
      " OpLambda)                                                                                        \n",
      "                                                                                                  \n",
      " tf.math.square_3 (TFOpLamb  (None, 2)                    0         ['dense_9[0][0]']             \n",
      " da)                                                                                              \n",
      "                                                                                                  \n",
      " tf.math.subtract_4 (TFOpLa  (None, 2)                    0         ['tf.__operators__.add_2[0][0]\n",
      " mbda)                                                              ',                            \n",
      "                                                                     'tf.math.square_3[0][0]']    \n",
      "                                                                                                  \n",
      " tf.math.exp_1 (TFOpLambda)  (None, 2)                    0         ['dense_10[0][0]']            \n",
      "                                                                                                  \n",
      " tf.math.subtract_3 (TFOpLa  (None, 1, 10)                0         ['InputTimeSeries[0][0]',     \n",
      " mbda)                                                               'time_distributed_1[0][0]']  \n",
      "                                                                                                  \n",
      " tf.math.subtract_5 (TFOpLa  (None, 2)                    0         ['tf.math.subtract_4[0][0]',  \n",
      " mbda)                                                               'tf.math.exp_1[0][0]']       \n",
      "                                                                                                  \n",
      " tf.math.square_2 (TFOpLamb  (None, 1, 10)                0         ['tf.math.subtract_3[0][0]']  \n",
      " da)                                                                                              \n",
      "                                                                                                  \n"
     ]
    },
    {
     "name": "stdout",
     "output_type": "stream",
     "text": [
      " tf.math.reduce_sum_3 (TFOp  (None,)                      0         ['tf.math.subtract_5[0][0]']  \n",
      " Lambda)                                                                                          \n",
      "                                                                                                  \n",
      " tf.math.reduce_sum_2 (TFOp  ()                           0         ['tf.math.square_2[0][0]']    \n",
      " Lambda)                                                                                          \n",
      "                                                                                                  \n",
      " tf.math.multiply_1 (TFOpLa  (None,)                      0         ['tf.math.reduce_sum_3[0][0]']\n",
      " mbda)                                                                                            \n",
      "                                                                                                  \n",
      " tf.__operators__.add_3 (TF  (None,)                      0         ['tf.math.reduce_sum_2[0][0]',\n",
      " OpLambda)                                                           'tf.math.multiply_1[0][0]']  \n",
      "                                                                                                  \n",
      " tf.math.reduce_mean_1 (TFO  ()                           0         ['tf.__operators__.add_3[0][0]\n",
      " pLambda)                                                           ']                            \n",
      "                                                                                                  \n",
      " add_loss_1 (AddLoss)        ()                           0         ['tf.math.reduce_mean_1[0][0]'\n",
      "                                                                    ]                             \n",
      "                                                                                                  \n",
      "==================================================================================================\n",
      "Total params: 19365 (75.64 KB)\n",
      "Trainable params: 19365 (75.64 KB)\n",
      "Non-trainable params: 0 (0.00 Byte)\n",
      "__________________________________________________________________________________________________\n",
      "Epoch 1/50\n",
      "2059/2059 [==============================] - 51s 21ms/step - loss: 17.6787 - accuracy: 0.6843 - val_loss: 16.8599 - val_accuracy: 0.9443\n",
      "Epoch 2/50\n",
      "2059/2059 [==============================] - 42s 20ms/step - loss: 16.8249 - accuracy: 0.6994 - val_loss: 16.9625 - val_accuracy: 0.9443\n",
      "Epoch 3/50\n",
      "2059/2059 [==============================] - 42s 20ms/step - loss: 16.7932 - accuracy: 0.7051 - val_loss: 16.9212 - val_accuracy: 0.0415\n",
      "Epoch 4/50\n",
      "2059/2059 [==============================] - 42s 20ms/step - loss: 16.7649 - accuracy: 0.7319 - val_loss: 16.9656 - val_accuracy: 0.9443\n",
      "Epoch 5/50\n",
      "2059/2059 [==============================] - 41s 20ms/step - loss: 16.7610 - accuracy: 0.7151 - val_loss: 16.9775 - val_accuracy: 0.0415\n",
      "Epoch 6/50\n",
      "2059/2059 [==============================] - 41s 20ms/step - loss: 16.7487 - accuracy: 0.7589 - val_loss: 16.8823 - val_accuracy: 0.9443\n",
      "Epoch 7/50\n",
      "2059/2059 [==============================] - 41s 20ms/step - loss: 16.7474 - accuracy: 0.7268 - val_loss: 16.9240 - val_accuracy: 0.0415\n",
      "Epoch 8/50\n",
      "2059/2059 [==============================] - 42s 20ms/step - loss: 16.7489 - accuracy: 0.7049 - val_loss: 16.8746 - val_accuracy: 0.9443\n",
      "Epoch 9/50\n",
      "2059/2059 [==============================] - 41s 20ms/step - loss: 16.7416 - accuracy: 0.7290 - val_loss: 16.9111 - val_accuracy: 0.9443\n",
      "Epoch 10/50\n",
      "2059/2059 [==============================] - 42s 20ms/step - loss: 16.7465 - accuracy: 0.7591 - val_loss: 16.8773 - val_accuracy: 0.9443\n",
      "Epoch 11/50\n",
      "2059/2059 [==============================] - 42s 21ms/step - loss: 16.7447 - accuracy: 0.7543 - val_loss: 16.8856 - val_accuracy: 0.9443\n",
      "Epoch 12/50\n",
      "2059/2059 [==============================] - 42s 20ms/step - loss: 16.7428 - accuracy: 0.7361 - val_loss: 16.8670 - val_accuracy: 0.9443\n",
      "Epoch 13/50\n",
      "2059/2059 [==============================] - 41s 20ms/step - loss: 16.7415 - accuracy: 0.7326 - val_loss: 16.8612 - val_accuracy: 0.9443\n",
      "Epoch 14/50\n",
      "2059/2059 [==============================] - 41s 20ms/step - loss: 16.7414 - accuracy: 0.7453 - val_loss: 16.8930 - val_accuracy: 0.9443\n",
      "Epoch 15/50\n",
      "2059/2059 [==============================] - 42s 21ms/step - loss: 16.7474 - accuracy: 0.7610 - val_loss: 16.8753 - val_accuracy: 0.9443\n",
      "Epoch 16/50\n",
      "2059/2059 [==============================] - 41s 20ms/step - loss: 16.7396 - accuracy: 0.7915 - val_loss: 16.8877 - val_accuracy: 0.0415\n",
      "Epoch 17/50\n",
      "2059/2059 [==============================] - 42s 20ms/step - loss: 16.7348 - accuracy: 0.7348 - val_loss: 16.8651 - val_accuracy: 0.9443\n",
      "Epoch 18/50\n",
      "2059/2059 [==============================] - 42s 20ms/step - loss: 16.7382 - accuracy: 0.7953 - val_loss: 16.8626 - val_accuracy: 0.9443\n",
      "Epoch 19/50\n",
      "2059/2059 [==============================] - 41s 20ms/step - loss: 16.7366 - accuracy: 0.7931 - val_loss: 16.8844 - val_accuracy: 0.9443\n",
      "Epoch 20/50\n",
      "2059/2059 [==============================] - 41s 20ms/step - loss: 16.7314 - accuracy: 0.8007 - val_loss: 16.8858 - val_accuracy: 0.9443\n",
      "Epoch 21/50\n",
      "2059/2059 [==============================] - 41s 20ms/step - loss: 16.7282 - accuracy: 0.7670 - val_loss: 16.8998 - val_accuracy: 0.0415\n",
      "Epoch 22/50\n",
      "2059/2059 [==============================] - 42s 20ms/step - loss: 16.7272 - accuracy: 0.7962 - val_loss: 16.8856 - val_accuracy: 0.0415\n",
      "Epoch 23/50\n",
      "2059/2059 [==============================] - 41s 20ms/step - loss: 16.7228 - accuracy: 0.7936 - val_loss: 16.8567 - val_accuracy: 0.9443\n",
      "Epoch 24/50\n",
      "2059/2059 [==============================] - 42s 20ms/step - loss: 16.7309 - accuracy: 0.7936 - val_loss: 16.8689 - val_accuracy: 0.9443\n",
      "Epoch 25/50\n",
      "2059/2059 [==============================] - 42s 20ms/step - loss: 16.7264 - accuracy: 0.7858 - val_loss: 16.8517 - val_accuracy: 0.9443\n",
      "Epoch 26/50\n",
      "2059/2059 [==============================] - 41s 20ms/step - loss: 16.7268 - accuracy: 0.8257 - val_loss: 16.8701 - val_accuracy: 0.9443\n",
      "Epoch 27/50\n",
      "2059/2059 [==============================] - 42s 20ms/step - loss: 16.7273 - accuracy: 0.7957 - val_loss: 16.8896 - val_accuracy: 0.9443\n",
      "Epoch 28/50\n",
      "2059/2059 [==============================] - 41s 20ms/step - loss: 16.7287 - accuracy: 0.8407 - val_loss: 16.8910 - val_accuracy: 0.9443\n",
      "Epoch 29/50\n",
      "2059/2059 [==============================] - 42s 20ms/step - loss: 16.7254 - accuracy: 0.8007 - val_loss: 16.9315 - val_accuracy: 0.9443\n",
      "Epoch 30/50\n",
      "2059/2059 [==============================] - 42s 20ms/step - loss: 16.7237 - accuracy: 0.7805 - val_loss: 16.8559 - val_accuracy: 0.0415\n",
      "Epoch 31/50\n",
      "2059/2059 [==============================] - 42s 20ms/step - loss: 16.7235 - accuracy: 0.7811 - val_loss: 16.9456 - val_accuracy: 0.0415\n",
      "Epoch 32/50\n",
      "2059/2059 [==============================] - 41s 20ms/step - loss: 16.7269 - accuracy: 0.8242 - val_loss: 16.8585 - val_accuracy: 0.9443\n",
      "Epoch 33/50\n",
      "2059/2059 [==============================] - 42s 20ms/step - loss: 16.7187 - accuracy: 0.8629 - val_loss: 16.8832 - val_accuracy: 0.0415\n",
      "Epoch 34/50\n",
      "2059/2059 [==============================] - 42s 20ms/step - loss: 16.7213 - accuracy: 0.7890 - val_loss: 16.8999 - val_accuracy: 0.9443\n",
      "Epoch 35/50\n",
      "2059/2059 [==============================] - 41s 20ms/step - loss: 16.7217 - accuracy: 0.8267 - val_loss: 16.8638 - val_accuracy: 0.9443\n",
      "Epoch 36/50\n",
      "2059/2059 [==============================] - 42s 20ms/step - loss: 16.7219 - accuracy: 0.7973 - val_loss: 16.8682 - val_accuracy: 0.9443\n",
      "Epoch 37/50\n",
      "2059/2059 [==============================] - 41s 20ms/step - loss: 16.7216 - accuracy: 0.7980 - val_loss: 16.8481 - val_accuracy: 0.9443\n",
      "Epoch 38/50\n",
      "2059/2059 [==============================] - 41s 20ms/step - loss: 16.7214 - accuracy: 0.8309 - val_loss: 16.8724 - val_accuracy: 0.0415\n",
      "Epoch 39/50\n",
      "2059/2059 [==============================] - 42s 20ms/step - loss: 16.7205 - accuracy: 0.8075 - val_loss: 16.9108 - val_accuracy: 0.9443\n",
      "Epoch 40/50\n",
      "2059/2059 [==============================] - 41s 20ms/step - loss: 16.7212 - accuracy: 0.8100 - val_loss: 16.8904 - val_accuracy: 0.9443\n",
      "Epoch 41/50\n",
      "2059/2059 [==============================] - 42s 20ms/step - loss: 16.7182 - accuracy: 0.8435 - val_loss: 16.8736 - val_accuracy: 0.9443\n",
      "Epoch 42/50\n"
     ]
    },
    {
     "name": "stdout",
     "output_type": "stream",
     "text": [
      "2059/2059 [==============================] - 42s 20ms/step - loss: 16.7202 - accuracy: 0.8167 - val_loss: 16.8787 - val_accuracy: 0.9443\n",
      "Epoch 43/50\n",
      "2059/2059 [==============================] - 42s 20ms/step - loss: 16.7194 - accuracy: 0.8029 - val_loss: 16.8847 - val_accuracy: 0.9443\n",
      "Epoch 44/50\n",
      "2059/2059 [==============================] - 41s 20ms/step - loss: 16.7172 - accuracy: 0.8422 - val_loss: 16.8631 - val_accuracy: 0.9443\n",
      "Epoch 45/50\n",
      "2059/2059 [==============================] - 41s 20ms/step - loss: 16.7166 - accuracy: 0.8179 - val_loss: 16.8669 - val_accuracy: 0.9443\n",
      "Epoch 46/50\n",
      "2059/2059 [==============================] - 41s 20ms/step - loss: 16.7175 - accuracy: 0.8410 - val_loss: 16.9084 - val_accuracy: 0.9443\n",
      "Epoch 47/50\n",
      "2059/2059 [==============================] - 41s 20ms/step - loss: 16.7165 - accuracy: 0.8386 - val_loss: 16.8635 - val_accuracy: 0.9443\n",
      "Epoch 48/50\n",
      "2059/2059 [==============================] - 42s 20ms/step - loss: 16.7164 - accuracy: 0.8197 - val_loss: 16.8583 - val_accuracy: 0.9443\n",
      "Epoch 49/50\n",
      "2059/2059 [==============================] - 41s 20ms/step - loss: 16.7192 - accuracy: 0.8491 - val_loss: 16.8904 - val_accuracy: 0.9443\n",
      "Epoch 50/50\n",
      "2059/2059 [==============================] - 42s 20ms/step - loss: 16.7170 - accuracy: 0.8245 - val_loss: 16.8615 - val_accuracy: 0.9443\n"
     ]
    }
   ],
   "source": [
    "latent_dim = 2\n",
    "inter_dim = 3\n",
    "\n",
    "def sampling(args):\n",
    "    z_mean, z_log_sigma = args\n",
    "    batch_size = tf.shape(z_mean)[0]\n",
    "    epsilon = K.random_normal(shape=(batch_size, latent_dim), mean=0., stddev=1.)\n",
    "    return z_mean + z_log_sigma * epsilon\n",
    "\n",
    "def vae_loss(x, x_decoded_mean, z_mean, z_log_sigma):\n",
    "    reconstruction_loss = K.sum(K.square(x - x_decoded_mean))\n",
    "    kl_loss = -0.5 * K.sum(1 + z_log_sigma - K.square(z_mean) - K.exp(z_log_sigma), axis=-1)\n",
    "    total_loss = K.mean(reconstruction_loss + kl_loss)\n",
    "    return total_loss\n",
    "\n",
    "def cvae(X):\n",
    "    timesteps, features = X.shape[1], X.shape[2]\n",
    "    input_x = Input(shape=(timesteps, features), name='InputTimeSeries')\n",
    "\n",
    "    # intermediate dimension\n",
    "    h = Conv1D(filters=64, kernel_size=3, padding=\"same\", strides=1, activation=\"relu\")(input_x)\n",
    "    h = Conv1D(filters=32, kernel_size=3, padding=\"same\", strides=1, activation=\"relu\")(h)\n",
    "    h = Conv1D(filters=16, kernel_size=3, padding=\"same\", strides=1, activation=\"relu\")(h)\n",
    "    h = LSTM(inter_dim, activation='relu', return_sequences=True)(h)\n",
    "    h = SeqSelfAttention(attention_activation='sigmoid')(h)\n",
    "    h = LSTM(inter_dim, activation='relu', return_sequences=False)(h)\n",
    "    h = Dense(inter_dim, activation='relu')(h)\n",
    "    h = Dense(inter_dim, activation='relu')(h)\n",
    "\n",
    "    # z_layer\n",
    "    z_mean = Dense(latent_dim)(h)\n",
    "    z_log_sigma = Dense(latent_dim)(h)\n",
    "    z = Lambda(sampling)([z_mean, z_log_sigma])\n",
    "\n",
    "    # Reconstruction decoder\n",
    "    decoder1 = RepeatVector(timesteps)(z)\n",
    "    decoder1 = Dense(inter_dim, activation='selu')(decoder1)\n",
    "    decoder1 = Dense(inter_dim, activation='selu')(decoder1)\n",
    "    decoder1 = LSTM(inter_dim, activation='selu', return_sequences=True)(decoder1)\n",
    "    decoder1 = LSTM(inter_dim, activation='selu', return_sequences=True)(decoder1)\n",
    "    decoder1 = SeqSelfAttention(attention_activation='sigmoid')(decoder1)\n",
    "    decoder1 = Conv1DTranspose(filters=16, kernel_size=3, padding=\"same\", strides=1, activation=\"selu\")(decoder1)\n",
    "    decoder1 = Conv1DTranspose(filters=32, kernel_size=3, padding=\"same\", strides=1, activation=\"selu\")(decoder1)\n",
    "    decoder1 = Conv1DTranspose(filters=64, kernel_size=3, padding=\"same\", strides=1, activation=\"selu\")(decoder1)\n",
    "    decoder1 = TimeDistributed(Dense(features))(decoder1)\n",
    "    model = Model(input_x, decoder1)\n",
    "\n",
    "    model.add_loss(vae_loss(input_x, decoder1, z_mean, z_log_sigma))\n",
    "    return model\n",
    "\n",
    "model = cvae(X_train_ft)\n",
    "model.compile(optimizer='adam', metrics=['accuracy'])\n",
    "\n",
    "model.summary()\n",
    "\n",
    "history = model.fit(X_train_ft, X_train_ft,\n",
    "                    shuffle=True,\n",
    "                    epochs=50,\n",
    "                    validation_split=0.05,\n",
    "                    batch_size=32).history"
   ]
  },
  {
   "cell_type": "code",
   "execution_count": 34,
   "id": "86b39cf3",
   "metadata": {},
   "outputs": [
    {
     "data": {
      "image/png": "[encoded data removed]",
      "text/plain": [
       "<Figure size 1120x480 with 1 Axes>"
      ]
     },
     "metadata": {},
     "output_type": "display_data"
    }
   ],
   "source": [
    "# plot the training losses\n",
    "fig, ax = plt.subplots(figsize=(14, 6), dpi=80)\n",
    "ax.plot(history['loss'], 'b', label='Train', linewidth=2)\n",
    "ax.plot(history['val_loss'], 'r', label='Validation', linewidth=2)\n",
    "ax.set_title('Model loss', fontsize=16)\n",
    "ax.set_ylabel('Loss (mae)')\n",
    "ax.set_xlabel('Epoch')\n",
    "ax.legend(loc='upper right')\n",
    "plt.show()"
   ]
  },
  {
   "cell_type": "code",
   "execution_count": 35,
   "id": "8390e0b1",
   "metadata": {},
   "outputs": [],
   "source": [
    "def flatten(X):\n",
    "    flattened_X = np.empty((X.shape[0], X.shape[2]))  # sample x features array.\n",
    "    for i in range(X.shape[0]):\n",
    "        flattened_X[i] = X[i, (X.shape[1]-1), :]\n",
    "    return(flattened_X)"
   ]
  },
  {
   "cell_type": "code",
   "execution_count": 38,
   "id": "303d26d1",
   "metadata": {},
   "outputs": [
    {
     "data": {
      "text/plain": [
       "(14852, 11)"
      ]
     },
     "execution_count": 38,
     "metadata": {},
     "output_type": "execute_result"
    }
   ],
   "source": [
    "X_test.shape"
   ]
  },
  {
   "cell_type": "code",
   "execution_count": 47,
   "id": "1e554065",
   "metadata": {},
   "outputs": [
    {
     "name": "stdout",
     "output_type": "stream",
     "text": [
      "465/465 [==============================] - 3s 4ms/step\n"
     ]
    }
   ],
   "source": [
    "valid_x_predictions = model.predict(X_test)\n",
    "mse = np.mean(np.power(flatten(X_test) - flatten(valid_x_predictions), 2), axis=1)\n",
    "\n",
    "error_df = pd.DataFrame({'reconstruction_error': mse,\n",
    "                        'true_class': y_test.tolist()})"
   ]
  },
  {
   "cell_type": "code",
   "execution_count": 48,
   "id": "61e1658b",
   "metadata": {},
   "outputs": [
    {
     "data": {
      "text/html": [
       "<div>\n",
       "<style scoped>\n",
       "    .dataframe tbody tr th:only-of-type {\n",
       "        vertical-align: middle;\n",
       "    }\n",
       "\n",
       "    .dataframe tbody tr th {\n",
       "        vertical-align: top;\n",
       "    }\n",
       "\n",
       "    .dataframe thead th {\n",
       "        text-align: right;\n",
       "    }\n",
       "</style>\n",
       "<table border=\"1\" class=\"dataframe\">\n",
       "  <thead>\n",
       "    <tr style=\"text-align: right;\">\n",
       "      <th></th>\n",
       "      <th>reconstruction_error</th>\n",
       "      <th>true_class</th>\n",
       "    </tr>\n",
       "  </thead>\n",
       "  <tbody>\n",
       "    <tr>\n",
       "      <th>0</th>\n",
       "      <td>0.058836</td>\n",
       "      <td>[[0]]</td>\n",
       "    </tr>\n",
       "    <tr>\n",
       "      <th>1</th>\n",
       "      <td>0.017384</td>\n",
       "      <td>[[0]]</td>\n",
       "    </tr>\n",
       "    <tr>\n",
       "      <th>2</th>\n",
       "      <td>0.015072</td>\n",
       "      <td>[[0]]</td>\n",
       "    </tr>\n",
       "    <tr>\n",
       "      <th>3</th>\n",
       "      <td>0.017430</td>\n",
       "      <td>[[0]]</td>\n",
       "    </tr>\n",
       "    <tr>\n",
       "      <th>4</th>\n",
       "      <td>0.571630</td>\n",
       "      <td>[[1]]</td>\n",
       "    </tr>\n",
       "    <tr>\n",
       "      <th>...</th>\n",
       "      <td>...</td>\n",
       "      <td>...</td>\n",
       "    </tr>\n",
       "    <tr>\n",
       "      <th>14847</th>\n",
       "      <td>0.204699</td>\n",
       "      <td>[[1]]</td>\n",
       "    </tr>\n",
       "    <tr>\n",
       "      <th>14848</th>\n",
       "      <td>0.017430</td>\n",
       "      <td>[[0]]</td>\n",
       "    </tr>\n",
       "    <tr>\n",
       "      <th>14849</th>\n",
       "      <td>0.678668</td>\n",
       "      <td>[[1]]</td>\n",
       "    </tr>\n",
       "    <tr>\n",
       "      <th>14850</th>\n",
       "      <td>0.063007</td>\n",
       "      <td>[[0]]</td>\n",
       "    </tr>\n",
       "    <tr>\n",
       "      <th>14851</th>\n",
       "      <td>0.299660</td>\n",
       "      <td>[[1]]</td>\n",
       "    </tr>\n",
       "  </tbody>\n",
       "</table>\n",
       "<p>14852 rows × 2 columns</p>\n",
       "</div>"
      ],
      "text/plain": [
       "       reconstruction_error true_class\n",
       "0                  0.058836      [[0]]\n",
       "1                  0.017384      [[0]]\n",
       "2                  0.015072      [[0]]\n",
       "3                  0.017430      [[0]]\n",
       "4                  0.571630      [[1]]\n",
       "...                     ...        ...\n",
       "14847              0.204699      [[1]]\n",
       "14848              0.017430      [[0]]\n",
       "14849              0.678668      [[1]]\n",
       "14850              0.063007      [[0]]\n",
       "14851              0.299660      [[1]]\n",
       "\n",
       "[14852 rows x 2 columns]"
      ]
     },
     "execution_count": 48,
     "metadata": {},
     "output_type": "execute_result"
    }
   ],
   "source": [
    "error_df"
   ]
  },
  {
   "cell_type": "code",
   "execution_count": 49,
   "id": "94432644",
   "metadata": {},
   "outputs": [
    {
     "data": {
      "image/png": "[encoded data removed]",
      "text/plain": [
       "<Figure size 800x800 with 1 Axes>"
      ]
     },
     "metadata": {},
     "output_type": "display_data"
    }
   ],
   "source": [
    "import matplotlib.pyplot as plt\n",
    "\n",
    "# 데이터프레임 준비\n",
    "true_class = error_df['true_class'].astype(str)\n",
    "reconstruction_error = error_df['reconstruction_error']\n",
    "\n",
    "# 박스 플롯 그리기\n",
    "plt.figure(figsize=(8, 8))\n",
    "plt.boxplot(\n",
    "    [reconstruction_error[true_class == cls] for cls in sorted(true_class.unique())],\n",
    "    labels=sorted(true_class.unique()),\n",
    "    showfliers=False,\n",
    "    vert=True,\n",
    "    patch_artist=True\n",
    ")\n",
    "\n",
    "plt.ylabel('Distribution')\n",
    "plt.xticks(rotation=90)\n",
    "plt.show()\n"
   ]
  },
  {
   "cell_type": "code",
   "execution_count": 50,
   "id": "c4f82063",
   "metadata": {},
   "outputs": [],
   "source": [
    "new_data = X_train.iloc[0, :-1].values  # 마지막 특징을 제거하여 10개로 만듦\n"
   ]
  },
  {
   "cell_type": "code",
   "execution_count": 51,
   "id": "810cc346",
   "metadata": {},
   "outputs": [],
   "source": [
    "# Convert both to integers if they are not\n",
    "#y_test = y_test.astype(int)\n",
    "#predy = predy.astype(int)\n"
   ]
  },
  {
   "cell_type": "code",
   "execution_count": 66,
   "id": "75dd1d18",
   "metadata": {},
   "outputs": [
    {
     "data": {
      "image/png": "[encoded data removed]",
      "text/plain": [
       "<Figure size 640x480 with 1 Axes>"
      ]
     },
     "metadata": {},
     "output_type": "display_data"
    }
   ],
   "source": [
    "from sklearn.metrics import roc_curve, auc\n",
    "\n",
    "# Assuming y_test and reconstruction_error have been defined\n",
    "fpr, tpr, thresholds = roc_curve(y_test, reconstruction_error)\n",
    "roc_auc = auc(fpr, tpr)\n",
    "\n",
    "plt.figure()\n",
    "plt.plot(fpr, tpr, color='darkorange', lw=2, label=f'ROC curve (area = {roc_auc:.2f})')\n",
    "plt.plot([0, 1], [0, 1], color='navy', lw=2, linestyle='--')\n",
    "plt.xlim([0.0, 1.0])\n",
    "plt.ylim([0.0, 1.05])\n",
    "plt.xlabel('False Positive Rate')\n",
    "plt.ylabel('True Positive Rate')\n",
    "plt.title('Receiver Operating Characteristic')\n",
    "plt.legend(loc=\"lower right\")\n",
    "plt.show()\n"
   ]
  },
  {
   "cell_type": "code",
   "execution_count": null,
   "id": "57341cf3",
   "metadata": {},
   "outputs": [],
   "source": []
  }
 ],
 "metadata": {
  "kernelspec": {
   "display_name": "Python 3.10 (NGC 24.01 / TensorFlow 2.14) on Backend.AI",
   "language": "python",
   "name": "python3"
  },
  "language_info": {
   "codemirror_mode": {
    "name": "ipython",
    "version": 3
   },
   "file_extension": ".py",
   "mimetype": "text/x-python",
   "name": "python",
   "nbconvert_exporter": "python",
   "pygments_lexer": "ipython3",
   "version": "3.10.12"
  }
 },
 "nbformat": 4,
 "nbformat_minor": 5
}
